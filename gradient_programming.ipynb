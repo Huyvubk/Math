{
  "nbformat": 4,
  "nbformat_minor": 5,
  "metadata": {
    "kernelspec": {
      "display_name": "Python 3 (ipykernel)",
      "language": "python",
      "name": "python3"
    },
    "language_info": {
      "codemirror_mode": {
        "name": "ipython",
        "version": 3
      },
      "file_extension": ".py",
      "mimetype": "text/x-python",
      "name": "python",
      "nbconvert_exporter": "python",
      "pygments_lexer": "ipython3",
      "version": "3.9.6"
    },
    "colab": {
      "provenance": [],
      "include_colab_link": true
    }
  },
  "cells": [
    {
      "cell_type": "markdown",
      "metadata": {
        "id": "view-in-github",
        "colab_type": "text"
      },
      "source": [
        "<a href=\"https://colab.research.google.com/github/Huyvubk/Math/blob/main/gradient_programming.ipynb\" target=\"_parent\"><img src=\"https://colab.research.google.com/assets/colab-badge.svg\" alt=\"Open In Colab\"/></a>"
      ]
    },
    {
      "cell_type": "markdown",
      "metadata": {
        "id": "adbdb8ea-b033-4f11-9969-c491809df812"
      },
      "source": [
        "## Bài 1: Hãy đạo hàm tổng quát những dạng sau (viết tay):"
      ],
      "id": "adbdb8ea-b033-4f11-9969-c491809df812"
    },
    {
      "cell_type": "markdown",
      "metadata": {
        "id": "HevZb3wERdOG"
      },
      "source": [
        "Tính dy/dx = "
      ],
      "id": "HevZb3wERdOG"
    },
    {
      "cell_type": "markdown",
      "metadata": {
        "id": "5360620c-16b0-4c43-8d9c-5d9545897bf3"
      },
      "source": [
        "### 1a:"
      ],
      "id": "5360620c-16b0-4c43-8d9c-5d9545897bf3"
    },
    {
      "cell_type": "markdown",
      "metadata": {
        "id": "3884fc70-9494-4f6e-ba31-d63c4b46723d"
      },
      "source": [
        "<img src=\"https://i.imgur.com/ZAEPZWM.jpg\" alt=\"\" width=\"350\"/>"
      ],
      "id": "3884fc70-9494-4f6e-ba31-d63c4b46723d"
    },
    {
      "cell_type": "markdown",
      "metadata": {
        "id": "8e0370b1-bf5e-476f-a50c-be88885b11fd"
      },
      "source": [
        "### 1b:"
      ],
      "id": "8e0370b1-bf5e-476f-a50c-be88885b11fd"
    },
    {
      "cell_type": "markdown",
      "metadata": {
        "id": "fd9d284d-3218-4666-b273-bc10fa345267"
      },
      "source": [
        "<img src=\"https://i.imgur.com/yfjgsna.jpg\" alt=\"\" width=\"350\"/>"
      ],
      "id": "fd9d284d-3218-4666-b273-bc10fa345267"
    },
    {
      "cell_type": "markdown",
      "metadata": {
        "tags": [],
        "id": "9a793b1b-f86e-49a4-b700-9b62584abf07"
      },
      "source": [
        "### 1c:"
      ],
      "id": "9a793b1b-f86e-49a4-b700-9b62584abf07"
    },
    {
      "cell_type": "markdown",
      "metadata": {
        "id": "f660aab7-6866-461d-965b-4bef5fdcd6cd"
      },
      "source": [
        "<img src=\"https://i.imgur.com/zj1ohFs.jpg\" alt=\"\" width=\"350\"/>"
      ],
      "id": "f660aab7-6866-461d-965b-4bef5fdcd6cd"
    },
    {
      "cell_type": "markdown",
      "metadata": {
        "id": "d92f742f-b34f-44f0-aade-aa12c383c41c"
      },
      "source": [
        "#### Bài giải:"
      ],
      "id": "d92f742f-b34f-44f0-aade-aa12c383c41c"
    },
    {
      "cell_type": "markdown",
      "metadata": {
        "id": "dbedc48a-7270-4937-9183-ba064e62dbcf"
      },
      "source": [
        "<img src=\"https://i.imgur.com/sbdZtxV.jpg\" alt=\"\"/>"
      ],
      "id": "dbedc48a-7270-4937-9183-ba064e62dbcf"
    },
    {
      "cell_type": "code",
      "metadata": {
        "id": "1da03c93-5d32-45e5-85bb-05637baf5953"
      },
      "source": [],
      "id": "1da03c93-5d32-45e5-85bb-05637baf5953",
      "execution_count": null,
      "outputs": []
    },
    {
      "cell_type": "code",
      "metadata": {
        "id": "4b39b94c-2d95-40a6-854a-48ddfa364f95"
      },
      "source": [],
      "id": "4b39b94c-2d95-40a6-854a-48ddfa364f95",
      "execution_count": null,
      "outputs": []
    },
    {
      "cell_type": "code",
      "metadata": {
        "id": "3c877372-7201-4fd5-8220-92ba06b5703f"
      },
      "source": [],
      "id": "3c877372-7201-4fd5-8220-92ba06b5703f",
      "execution_count": null,
      "outputs": []
    },
    {
      "cell_type": "markdown",
      "metadata": {
        "id": "5e9d0c6d-0a4d-4b17-af66-772a484bf0a4"
      },
      "source": [
        "---"
      ],
      "id": "5e9d0c6d-0a4d-4b17-af66-772a484bf0a4"
    },
    {
      "cell_type": "markdown",
      "metadata": {
        "id": "42d9d919-8a31-4fc8-8dcc-5ba7207a9062"
      },
      "source": [
        "## Bài 2: Ứng dụng đạo hàm - sử dụng 2 cách (chỉ cần tìm 1 nghiệm) để tìm nghiệm của phương trình: \n",
        "- Cách 1: Đạo hàm thủ công\n",
        "- Cách 2: Đạo hàm tự động "
      ],
      "id": "42d9d919-8a31-4fc8-8dcc-5ba7207a9062"
    },
    {
      "cell_type": "markdown",
      "metadata": {
        "id": "427917ec-b571-4b85-8dad-9012efb95725"
      },
      "source": [
        "### 2a:\n",
        "\n",
        "<img src=\"https://i.imgur.com/jJoVatL.jpg\" alt=\"\" width=\"350\"/>\n"
      ],
      "id": "427917ec-b571-4b85-8dad-9012efb95725"
    },
    {
      "cell_type": "markdown",
      "metadata": {
        "id": "d42b976d-00b2-4a53-a933-64bbd964a46b"
      },
      "source": [
        "### 2b:\n",
        "\n",
        "<img src=\"https://i.imgur.com/ggsK2Zj.jpg\" alt=\"\" width=\"350\"/>\n"
      ],
      "id": "d42b976d-00b2-4a53-a933-64bbd964a46b"
    },
    {
      "cell_type": "markdown",
      "metadata": {
        "id": "4c3c56bc-1e98-490e-b05d-fbfc00e3c589"
      },
      "source": [
        "> Tham khảo cách chứng minh và tìm nghiệm phương pháp lặp Newton Raphson: \n",
        "https://colab.research.google.com/drive/1R7nshsTvCFS4fndbXZrXkOFO9UwIsJJt"
      ],
      "id": "4c3c56bc-1e98-490e-b05d-fbfc00e3c589"
    },
    {
      "cell_type": "markdown",
      "metadata": {
        "id": "9b72c15b-2e75-46ca-aaf0-4c5f7118ea9a"
      },
      "source": [
        "#### Bài giải:"
      ],
      "id": "9b72c15b-2e75-46ca-aaf0-4c5f7118ea9a"
    },
    {
      "cell_type": "code",
      "metadata": {
        "id": "77dd3aa4-21b9-489c-a397-6516532abee6"
      },
      "source": [
        "import matplotlib.pyplot as plt\n",
        "import numpy as np"
      ],
      "id": "77dd3aa4-21b9-489c-a397-6516532abee6",
      "execution_count": 2,
      "outputs": []
    },
    {
      "cell_type": "code",
      "metadata": {
        "id": "3a9bb1d3-a49c-42ae-8948-18be43004259"
      },
      "source": [
        "def d_f(f, x, epsilon=1.0e-7):\n",
        "    return (f(x + epsilon/2)\n",
        "            - f(x - epsilon/2))/epsilon"
      ],
      "id": "3a9bb1d3-a49c-42ae-8948-18be43004259",
      "execution_count": 3,
      "outputs": []
    },
    {
      "cell_type": "markdown",
      "metadata": {
        "id": "1cee78e9-1c2e-44d8-9250-0967e353f9ab"
      },
      "source": [
        "---"
      ],
      "id": "1cee78e9-1c2e-44d8-9250-0967e353f9ab"
    },
    {
      "cell_type": "code",
      "metadata": {
        "id": "64ed3436-f441-4333-9a9d-437e9f381a19"
      },
      "source": [
        "#https://toanmath.com/2018/09/cach-giai-phuong-trinh-bac-4.html\n",
        "def f(x):\n",
        "    return (x+4)*(x+6)*(x-2)*(x-12)-25*(x**2)"
      ],
      "id": "64ed3436-f441-4333-9a9d-437e9f381a19",
      "execution_count": 4,
      "outputs": []
    },
    {
      "cell_type": "code",
      "metadata": {
        "id": "9726920a-e4ee-49b0-8356-525c845561ef",
        "outputId": "ccc70bab-1738-4c9a-9750-3634fe2571ef",
        "colab": {
          "base_uri": "https://localhost:8080/",
          "height": 283
        }
      },
      "source": [
        "x = np.arange(-10, 20, 1)\n",
        "plt.plot(x, f(x))"
      ],
      "id": "9726920a-e4ee-49b0-8356-525c845561ef",
      "execution_count": 5,
      "outputs": [
        {
          "output_type": "execute_result",
          "data": {
            "text/plain": [
              "[<matplotlib.lines.Line2D at 0x7f534cfd6d60>]"
            ]
          },
          "metadata": {},
          "execution_count": 5
        },
        {
          "output_type": "display_data",
          "data": {
            "text/plain": [
              "<Figure size 432x288 with 1 Axes>"
            ],
            "image/png": "[encoded data removed]"
          },
          "metadata": {
            "needs_background": "light"
          }
        }
      ]
    },
    {
      "cell_type": "code",
      "metadata": {
        "id": "33b91d1b-f01f-42e8-9985-945c2d5559c0",
        "outputId": "8e09858f-60c3-4a48-8eaa-a647cd24f0a1",
        "colab": {
          "base_uri": "https://localhost:8080/"
        }
      },
      "source": [
        "epochs = 1000\n",
        "x = 9\n",
        "for _ in range(epochs):\n",
        "    x = x - f(x)/d_f(f, x)\n",
        "print(x)"
      ],
      "id": "33b91d1b-f01f-42e8-9985-945c2d5559c0",
      "execution_count": 6,
      "outputs": [
        {
          "output_type": "stream",
          "name": "stdout",
          "text": [
            "-8.0\n"
          ]
        }
      ]
    },
    {
      "cell_type": "code",
      "metadata": {
        "id": "1dedcb63-f78d-441a-9595-14379de60880"
      },
      "source": [],
      "id": "1dedcb63-f78d-441a-9595-14379de60880",
      "execution_count": 6,
      "outputs": []
    },
    {
      "cell_type": "code",
      "metadata": {
        "id": "bf0d2f71-dea6-44b0-a8a5-aa978531cbea"
      },
      "source": [
        "#https://toanmath.com/2018/09/cach-giai-phuong-trinh-bac-4.html\n",
        "def f(x):\n",
        "    return x**4-8*(x**3)+21*(x**2)-24*x+9"
      ],
      "id": "bf0d2f71-dea6-44b0-a8a5-aa978531cbea",
      "execution_count": 7,
      "outputs": []
    },
    {
      "cell_type": "code",
      "metadata": {
        "id": "769d9129-770f-45d7-92e0-0f54dcd6fae5",
        "outputId": "14a82b21-3135-443e-d735-e12f2559009b",
        "colab": {
          "base_uri": "https://localhost:8080/",
          "height": 338
        }
      },
      "source": [
        "x = np.arange(-2, 10, 1)\n",
        "plt.figure(figsize=(5,5))\n",
        "plt.plot(x, f(x))"
      ],
      "id": "769d9129-770f-45d7-92e0-0f54dcd6fae5",
      "execution_count": 8,
      "outputs": [
        {
          "output_type": "execute_result",
          "data": {
            "text/plain": [
              "[<matplotlib.lines.Line2D at 0x7f534cb1b4c0>]"
            ]
          },
          "metadata": {},
          "execution_count": 8
        },
        {
          "output_type": "display_data",
          "data": {
            "text/plain": [
              "<Figure size 360x360 with 1 Axes>"
            ],
            "image/png": "[encoded data removed]"
          },
          "metadata": {
            "needs_background": "light"
          }
        }
      ]
    },
    {
      "cell_type": "code",
      "metadata": {
        "id": "1fed274a-4ee5-48ee-adad-69154ea295d6",
        "outputId": "732f9814-3db9-4ea9-a8df-f5616c89c655",
        "colab": {
          "base_uri": "https://localhost:8080/"
        }
      },
      "source": [
        "epochs = 1000\n",
        "x = 2\n",
        "for _ in range(epochs):\n",
        "    x = x - f(x)/d_f(f, x)\n",
        "print(x)"
      ],
      "id": "1fed274a-4ee5-48ee-adad-69154ea295d6",
      "execution_count": 9,
      "outputs": [
        {
          "output_type": "stream",
          "name": "stdout",
          "text": [
            "0.6972243622680052\n"
          ]
        }
      ]
    },
    {
      "cell_type": "code",
      "metadata": {
        "id": "9ffc372b-773d-4197-b56b-24f6059084d7",
        "outputId": "6c0c8a47-536f-46fb-f6e7-5d264eded5c7",
        "colab": {
          "base_uri": "https://localhost:8080/"
        }
      },
      "source": [
        "(5-(13**(0.5)))/2"
      ],
      "id": "9ffc372b-773d-4197-b56b-24f6059084d7",
      "execution_count": 10,
      "outputs": [
        {
          "output_type": "execute_result",
          "data": {
            "text/plain": [
              "0.6972243622680054"
            ]
          },
          "metadata": {},
          "execution_count": 10
        }
      ]
    },
    {
      "cell_type": "code",
      "metadata": {
        "id": "8052ab6c-9046-4125-807c-598a791b1b47"
      },
      "source": [],
      "id": "8052ab6c-9046-4125-807c-598a791b1b47",
      "execution_count": 10,
      "outputs": []
    },
    {
      "cell_type": "code",
      "metadata": {
        "id": "7980e3ad-2f24-4f5f-90b9-6995f3451b83"
      },
      "source": [],
      "id": "7980e3ad-2f24-4f5f-90b9-6995f3451b83",
      "execution_count": 10,
      "outputs": []
    },
    {
      "cell_type": "code",
      "metadata": {
        "id": "602d425b-a4b5-4157-88d4-7b5ce5757065"
      },
      "source": [],
      "id": "602d425b-a4b5-4157-88d4-7b5ce5757065",
      "execution_count": 10,
      "outputs": []
    },
    {
      "cell_type": "markdown",
      "metadata": {
        "id": "8ee51fec-7297-4e37-9e5b-2f838c42888f"
      },
      "source": [
        "---"
      ],
      "id": "8ee51fec-7297-4e37-9e5b-2f838c42888f"
    },
    {
      "cell_type": "markdown",
      "metadata": {
        "id": "09e85047-b579-4c4b-82aa-2ee9bfa5edda"
      },
      "source": [
        "## Bài 3: Ứng dụng đạo hàm - sử dụng 2 cách để tìm cực tiểu:\n",
        "- Cách 1: Đạo hàm thủ công\n",
        "- Cách 2: Đạo hàm tự động "
      ],
      "id": "09e85047-b579-4c4b-82aa-2ee9bfa5edda"
    },
    {
      "cell_type": "markdown",
      "metadata": {
        "id": "6bc9a804-346c-4350-841a-3ddcc96d8ccc"
      },
      "source": [
        "### 3a\n",
        "\n",
        "$z=2x^4+y^4-4x^2+2y^2$"
      ],
      "id": "6bc9a804-346c-4350-841a-3ddcc96d8ccc"
    },
    {
      "cell_type": "markdown",
      "metadata": {
        "tags": [],
        "id": "4b2b6900-9db1-41b4-8feb-d1639710bdaf"
      },
      "source": [
        "### 3b\n",
        "\n",
        "$z = 2x^2+3y^2-e^{-(x^2+y^2)}$"
      ],
      "id": "4b2b6900-9db1-41b4-8feb-d1639710bdaf"
    },
    {
      "cell_type": "code",
      "metadata": {
        "id": "f8e9aa57-3727-428b-8c73-65c4cd009799"
      },
      "source": [],
      "id": "f8e9aa57-3727-428b-8c73-65c4cd009799",
      "execution_count": 10,
      "outputs": []
    },
    {
      "cell_type": "markdown",
      "metadata": {
        "id": "ae7750a4-be75-424e-bf1d-2a4642f733d7"
      },
      "source": [
        "#### Bài giải:"
      ],
      "id": "ae7750a4-be75-424e-bf1d-2a4642f733d7"
    },
    {
      "cell_type": "code",
      "metadata": {
        "id": "0c05762e-7478-4ced-a221-17c13156839d"
      },
      "source": [
        "# From scratch\n",
        "def d_vec_to_vec(f, w, epsilon=1e-7):\n",
        "    result = []\n",
        "    w = np.array(w, dtype=np.float64).reshape(-1, 1)\n",
        "    for i in range(w.shape[0]):\n",
        "        w_t = w.copy()\n",
        "        w_p = w.copy()\n",
        "        w_t[i] += epsilon/2\n",
        "        w_p[i] -= epsilon/2\n",
        "        result.append((f(w_t) - f(w_p))/epsilon)\n",
        "    return np.concatenate(result, -1)"
      ],
      "id": "0c05762e-7478-4ced-a221-17c13156839d",
      "execution_count": 11,
      "outputs": []
    },
    {
      "cell_type": "code",
      "metadata": {
        "id": "5deacec2-bcc0-47bc-abdc-19f34f5f1929"
      },
      "source": [],
      "id": "5deacec2-bcc0-47bc-abdc-19f34f5f1929",
      "execution_count": 11,
      "outputs": []
    },
    {
      "cell_type": "code",
      "metadata": {
        "id": "6b8a1947-bd2a-4765-b665-a2628f162e79"
      },
      "source": [],
      "id": "6b8a1947-bd2a-4765-b665-a2628f162e79",
      "execution_count": 11,
      "outputs": []
    },
    {
      "cell_type": "markdown",
      "metadata": {
        "id": "6038c48f-e1dd-4aaf-898d-e0cdf6e8c5ec"
      },
      "source": [
        "$z=2x^4+y^4-4x^2+2y^2$"
      ],
      "id": "6038c48f-e1dd-4aaf-898d-e0cdf6e8c5ec"
    },
    {
      "cell_type": "code",
      "metadata": {
        "id": "f9749086-4f4b-47a8-a00a-d2ec526016e8",
        "outputId": "47fa9817-1d3c-48cd-c603-18526b06b840",
        "colab": {
          "base_uri": "https://localhost:8080/",
          "height": 246
        }
      },
      "source": [
        "xmin, xmax, xstep = -1, 1, 1\n",
        "ymin, ymax, ystep = -1, 1, 1\n",
        "\n",
        "x, y = np.meshgrid(np.arange(xmin, xmax + xstep, xstep), np.arange(ymin, ymax + ystep, ystep))\n",
        "z = f1([x, y])\n",
        "\n",
        "fig,ax=plt.subplots(1,1)\n",
        "cp = ax.contourf(x, y, z)\n",
        "fig.colorbar(cp) # Add a colorbar to a plot\n",
        "ax.set_title('Filled Contours Plot')\n",
        "ax.set_xlabel('x')\n",
        "ax.set_ylabel('y')\n",
        "plt.show()"
      ],
      "id": "f9749086-4f4b-47a8-a00a-d2ec526016e8",
      "execution_count": 12,
      "outputs": [
        {
          "output_type": "error",
          "ename": "NameError",
          "evalue": "ignored",
          "traceback": [
            "\u001b[0;31m---------------------------------------------------------------------------\u001b[0m",
            "\u001b[0;31mNameError\u001b[0m                                 Traceback (most recent call last)",
            "\u001b[0;32m<ipython-input-12-0bbaa5b8381e>\u001b[0m in \u001b[0;36m<module>\u001b[0;34m\u001b[0m\n\u001b[1;32m      3\u001b[0m \u001b[0;34m\u001b[0m\u001b[0m\n\u001b[1;32m      4\u001b[0m \u001b[0mx\u001b[0m\u001b[0;34m,\u001b[0m \u001b[0my\u001b[0m \u001b[0;34m=\u001b[0m \u001b[0mnp\u001b[0m\u001b[0;34m.\u001b[0m\u001b[0mmeshgrid\u001b[0m\u001b[0;34m(\u001b[0m\u001b[0mnp\u001b[0m\u001b[0;34m.\u001b[0m\u001b[0marange\u001b[0m\u001b[0;34m(\u001b[0m\u001b[0mxmin\u001b[0m\u001b[0;34m,\u001b[0m \u001b[0mxmax\u001b[0m \u001b[0;34m+\u001b[0m \u001b[0mxstep\u001b[0m\u001b[0;34m,\u001b[0m \u001b[0mxstep\u001b[0m\u001b[0;34m)\u001b[0m\u001b[0;34m,\u001b[0m \u001b[0mnp\u001b[0m\u001b[0;34m.\u001b[0m\u001b[0marange\u001b[0m\u001b[0;34m(\u001b[0m\u001b[0mymin\u001b[0m\u001b[0;34m,\u001b[0m \u001b[0mymax\u001b[0m \u001b[0;34m+\u001b[0m \u001b[0mystep\u001b[0m\u001b[0;34m,\u001b[0m \u001b[0mystep\u001b[0m\u001b[0;34m)\u001b[0m\u001b[0;34m)\u001b[0m\u001b[0;34m\u001b[0m\u001b[0;34m\u001b[0m\u001b[0m\n\u001b[0;32m----> 5\u001b[0;31m \u001b[0mz\u001b[0m \u001b[0;34m=\u001b[0m \u001b[0mf1\u001b[0m\u001b[0;34m(\u001b[0m\u001b[0;34m[\u001b[0m\u001b[0mx\u001b[0m\u001b[0;34m,\u001b[0m \u001b[0my\u001b[0m\u001b[0;34m]\u001b[0m\u001b[0;34m)\u001b[0m\u001b[0;34m\u001b[0m\u001b[0;34m\u001b[0m\u001b[0m\n\u001b[0m\u001b[1;32m      6\u001b[0m \u001b[0;34m\u001b[0m\u001b[0m\n\u001b[1;32m      7\u001b[0m \u001b[0mfig\u001b[0m\u001b[0;34m,\u001b[0m\u001b[0max\u001b[0m\u001b[0;34m=\u001b[0m\u001b[0mplt\u001b[0m\u001b[0;34m.\u001b[0m\u001b[0msubplots\u001b[0m\u001b[0;34m(\u001b[0m\u001b[0;36m1\u001b[0m\u001b[0;34m,\u001b[0m\u001b[0;36m1\u001b[0m\u001b[0;34m)\u001b[0m\u001b[0;34m\u001b[0m\u001b[0;34m\u001b[0m\u001b[0m\n",
            "\u001b[0;31mNameError\u001b[0m: name 'f1' is not defined"
          ]
        }
      ]
    },
    {
      "cell_type": "code",
      "metadata": {
        "id": "938bb768-62aa-46b1-8349-6a9bb3d42b1b"
      },
      "source": [
        "#http://theza2.mobie.in/goc-hoc-tap/giai-tich-I/cuc-tri-ham-2-bien\n",
        "def f1(w):\n",
        "    x,y = w\n",
        "    return 2*(x**4) + y**4 - 4*(x**2) + 2*(y**2)"
      ],
      "id": "938bb768-62aa-46b1-8349-6a9bb3d42b1b",
      "execution_count": null,
      "outputs": []
    },
    {
      "cell_type": "code",
      "metadata": {
        "id": "90423c3e-d249-4836-8cb6-d87f4d69667f"
      },
      "source": [
        "x = 1.0\n",
        "y = 1.0\n",
        "lr = 0.01\n",
        "epoch = 1000\n",
        "f_val = []\n",
        "for _ in range(epoch):\n",
        "    z = f1([x,y])\n",
        "    dx, dy = d_vec_to_vec(f1, [x,y])\n",
        "    x -= dx*lr\n",
        "    y -= dy*lr\n",
        "    f_val.append(z)\n",
        "plt.plot(f_val)\n",
        "print(f\"min = {f_val[-1]} with x,y={x,y}\")"
      ],
      "id": "90423c3e-d249-4836-8cb6-d87f4d69667f",
      "execution_count": null,
      "outputs": []
    },
    {
      "cell_type": "code",
      "metadata": {
        "id": "40c326d9-8e47-41e5-9a15-464de6a272bb"
      },
      "source": [],
      "id": "40c326d9-8e47-41e5-9a15-464de6a272bb",
      "execution_count": null,
      "outputs": []
    },
    {
      "cell_type": "markdown",
      "metadata": {
        "id": "a87b4ae7-2e24-44f9-b374-dda1ad8c263e"
      },
      "source": [
        "$z = 2x^2+3y^2-e^{-(x^2+y^2)}$"
      ],
      "id": "a87b4ae7-2e24-44f9-b374-dda1ad8c263e"
    },
    {
      "cell_type": "code",
      "metadata": {
        "id": "74803d8b-1729-4d48-858b-5746a9324ea2"
      },
      "source": [
        "#http://theza2.mobie.in/goc-hoc-tap/giai-tich-I/cuc-tri-ham-2-bien\n",
        "def f2(w):\n",
        "    x, y = w\n",
        "    return 2*(x**3) + 3*(y**2) - np.exp(-(x**2+y**2))"
      ],
      "id": "74803d8b-1729-4d48-858b-5746a9324ea2",
      "execution_count": 13,
      "outputs": []
    },
    {
      "cell_type": "code",
      "metadata": {
        "id": "8ca0d365-cd93-4592-87e5-8c5e98c17bee",
        "outputId": "fa3bb272-c4bf-4257-a484-ae38f8c2b662",
        "colab": {
          "base_uri": "https://localhost:8080/",
          "height": 295
        }
      },
      "source": [
        "xmin, xmax, xstep = -1, 1, 1\n",
        "ymin, ymax, ystep = -1, 1, 1\n",
        "\n",
        "x, y = np.meshgrid(np.arange(xmin, xmax + xstep, xstep), np.arange(ymin, ymax + ystep, ystep))\n",
        "z = f2([x, y])\n",
        "\n",
        "fig,ax=plt.subplots(1,1)\n",
        "cp = ax.contourf(x, y, z)\n",
        "fig.colorbar(cp) # Add a colorbar to a plot\n",
        "ax.set_title('Filled Contours Plot')\n",
        "ax.set_xlabel('x')\n",
        "ax.set_ylabel('y')\n",
        "plt.show()"
      ],
      "id": "8ca0d365-cd93-4592-87e5-8c5e98c17bee",
      "execution_count": 14,
      "outputs": [
        {
          "output_type": "display_data",
          "data": {
            "text/plain": [
              "<Figure size 432x288 with 2 Axes>"
            ],
            "image/png": "[encoded data removed]"
          },
          "metadata": {
            "needs_background": "light"
          }
        }
      ]
    },
    {
      "cell_type": "code",
      "metadata": {
        "id": "f4152495-4ad5-4c23-a466-6f4f46565dba",
        "outputId": "5fbe867b-c949-43aa-d0c7-3693594f5d74",
        "colab": {
          "base_uri": "https://localhost:8080/",
          "height": 283
        }
      },
      "source": [
        "x = 1.0\n",
        "y = 1.0\n",
        "lr = 0.01\n",
        "epoch = 1000\n",
        "f_val = []\n",
        "for _ in range(epoch):\n",
        "    z = f2([x,y])\n",
        "    dx, dy = d_vec_to_vec(f2, [x,y])\n",
        "    x -= dx*lr\n",
        "    y -= dy*lr\n",
        "    f_val.append(z)\n",
        "plt.plot(f_val)\n",
        "print(f\"min = {f_val[-1]} with x,y={x,y}\")"
      ],
      "id": "f4152495-4ad5-4c23-a466-6f4f46565dba",
      "execution_count": 15,
      "outputs": [
        {
          "output_type": "stream",
          "name": "stdout",
          "text": [
            "min = -1.0 with x,y=(5.763158839044991e-10, 4.551026222543442e-12)\n"
          ]
        },
        {
          "output_type": "display_data",
          "data": {
            "text/plain": [
              "<Figure size 432x288 with 1 Axes>"
            ],
            "image/png": "[encoded data removed]"
          },
          "metadata": {
            "needs_background": "light"
          }
        }
      ]
    },
    {
      "cell_type": "code",
      "metadata": {
        "id": "68e14344-89d0-411c-9225-a0c670cdb6fc"
      },
      "source": [],
      "id": "68e14344-89d0-411c-9225-a0c670cdb6fc",
      "execution_count": 15,
      "outputs": []
    },
    {
      "cell_type": "code",
      "metadata": {
        "id": "68742a83-9ea6-4430-9c42-b926a3d225e5"
      },
      "source": [],
      "id": "68742a83-9ea6-4430-9c42-b926a3d225e5",
      "execution_count": 15,
      "outputs": []
    },
    {
      "cell_type": "markdown",
      "metadata": {
        "id": "4f8d0897-2291-4648-aeff-a39635672d0d"
      },
      "source": [
        "---"
      ],
      "id": "4f8d0897-2291-4648-aeff-a39635672d0d"
    },
    {
      "cell_type": "markdown",
      "metadata": {
        "id": "4e88dcb8-e689-427d-a635-82a492036a7c"
      },
      "source": [
        "## Bài 4: Ứng dụng đạo hàm - sử dụng 2 cách để giải bài toán Linear Regression:\n",
        "- Cách 1: Đạo hàm thủ công\n",
        "- Cách 2: Đạo hàm tự động (Numberical Differentiation)\n",
        "\n",
        "> data (advertising.csv): https://drive.google.com/file/d/1joUbtLNSTmXc_fyuW2f9Af1Y0RPNSB6I/view?usp=sharing\n",
        "\n",
        "> data (BostonHousing.csv): https://drive.google.com/file/d/18Nh-Vh1QJmFA0DWeEYr163svN6ABm-TN/view?usp=sharing"
      ],
      "id": "4e88dcb8-e689-427d-a635-82a492036a7c"
    },
    {
      "cell_type": "code",
      "metadata": {
        "id": "84781e3b-8424-43b8-ad3a-baae63e2aeee"
      },
      "source": [],
      "id": "84781e3b-8424-43b8-ad3a-baae63e2aeee",
      "execution_count": 15,
      "outputs": []
    },
    {
      "cell_type": "code",
      "metadata": {
        "id": "cdeaf937-122f-4cd2-b868-2aa190be9aa1"
      },
      "source": [
        "import numpy as np\n",
        "import matplotlib.pyplot as plt"
      ],
      "id": "cdeaf937-122f-4cd2-b868-2aa190be9aa1",
      "execution_count": 16,
      "outputs": []
    },
    {
      "cell_type": "code",
      "source": [
        "from google.colab import drive\n",
        "drive.mount('/content/drive')"
      ],
      "metadata": {
        "colab": {
          "base_uri": "https://localhost:8080/"
        },
        "id": "s8mOfJJNzNym",
        "outputId": "facb11a8-4971-448a-e3c6-f4ae5ab23356"
      },
      "id": "s8mOfJJNzNym",
      "execution_count": 49,
      "outputs": [
        {
          "output_type": "stream",
          "name": "stdout",
          "text": [
            "Drive already mounted at /content/drive; to attempt to forcibly remount, call drive.mount(\"/content/drive\", force_remount=True).\n"
          ]
        }
      ]
    },
    {
      "cell_type": "code",
      "metadata": {
        "id": "141ede1a-5085-4f8e-8e48-d988ab6cb5ec"
      },
      "source": [
        "# From scratch\n",
        "def d_vec_to_vec(f, w, epsilon=1e-7):\n",
        "    result = []\n",
        "    w = np.array(w, dtype=np.float64).reshape(-1, 1)\n",
        "    for i in range(w.shape[0]):\n",
        "        w_t = w.copy()\n",
        "        w_p = w.copy()\n",
        "        w_t[i] += epsilon/2\n",
        "        w_p[i] -= epsilon/2\n",
        "        result.append((f(w_t) - f(w_p))/epsilon)\n",
        "    return np.concatenate(result, -1)"
      ],
      "id": "141ede1a-5085-4f8e-8e48-d988ab6cb5ec",
      "execution_count": 17,
      "outputs": []
    },
    {
      "cell_type": "code",
      "metadata": {
        "id": "eb85a4e5-3567-443d-af6a-d7a80c7b446b"
      },
      "source": [
        "data = np.genfromtxt(\"/content/drive/MyDrive/Data/advertising.csv\", delimiter=',', skip_header=True)"
      ],
      "id": "eb85a4e5-3567-443d-af6a-d7a80c7b446b",
      "execution_count": 36,
      "outputs": []
    },
    {
      "cell_type": "code",
      "metadata": {
        "id": "c87b1135-d696-441d-9f17-3c6b7c2fd467"
      },
      "source": [
        "x = data[:, :-1]\n",
        "y = data[:, -1:]"
      ],
      "id": "c87b1135-d696-441d-9f17-3c6b7c2fd467",
      "execution_count": 38,
      "outputs": []
    },
    {
      "cell_type": "code",
      "metadata": {
        "id": "48e1c36e-c84e-48a8-ae33-54be9dcb176d"
      },
      "source": [
        "n_sample, n_features = x.shape # Lấy số sample, và số features"
      ],
      "id": "48e1c36e-c84e-48a8-ae33-54be9dcb176d",
      "execution_count": 39,
      "outputs": []
    },
    {
      "cell_type": "code",
      "metadata": {
        "id": "0bac9a4f-94e1-41f3-b452-c462fb0a4dc6"
      },
      "source": [
        "x = (x - x.mean())/x.std()"
      ],
      "id": "0bac9a4f-94e1-41f3-b452-c462fb0a4dc6",
      "execution_count": 40,
      "outputs": []
    },
    {
      "cell_type": "code",
      "metadata": {
        "id": "a1f850b4-bfc6-4a11-9fd6-77a847ebea14"
      },
      "source": [
        "x = np.concatenate((x, np.ones((n_sample, 1))), axis = 1) # Thêm cột 1 vào x"
      ],
      "id": "a1f850b4-bfc6-4a11-9fd6-77a847ebea14",
      "execution_count": 41,
      "outputs": []
    },
    {
      "cell_type": "code",
      "metadata": {
        "id": "75c790c9-ed4c-4ffc-ad17-6c94e2ddd20a"
      },
      "source": [
        "def linear(const):\n",
        "    def handle(x):\n",
        "        return const@x\n",
        "    return handle"
      ],
      "id": "75c790c9-ed4c-4ffc-ad17-6c94e2ddd20a",
      "execution_count": 42,
      "outputs": []
    },
    {
      "cell_type": "code",
      "metadata": {
        "id": "4cc2aace-d36e-458c-b9e6-b4f641620faa"
      },
      "source": [
        "def mean_square_error(const):\n",
        "    def handle(x):\n",
        "        return np.mean((const-x)**2, keepdims=True)\n",
        "    return handle"
      ],
      "id": "4cc2aace-d36e-458c-b9e6-b4f641620faa",
      "execution_count": 43,
      "outputs": []
    },
    {
      "cell_type": "code",
      "metadata": {
        "id": "f710ef5f-358f-4ed0-bc0c-45dcf0025f58"
      },
      "source": [
        "# init parameters (weight, learning_rate, epoch, batch_size)\n",
        "w = np.random.rand(n_features + 1, 1)\n",
        "learning_rate = 0.01\n",
        "batch_size = n_sample\n",
        "n_epochs = 100\n",
        "\n",
        "\n",
        "#for debug\n",
        "losses = []"
      ],
      "id": "f710ef5f-358f-4ed0-bc0c-45dcf0025f58",
      "execution_count": 44,
      "outputs": []
    },
    {
      "cell_type": "code",
      "metadata": {
        "id": "a66ee926-c45a-4096-b729-02dd156011be"
      },
      "source": [
        "# Tìm w, b\n",
        "for epoch in range(n_epochs):\n",
        "    \n",
        "    # May be shufle\n",
        "\n",
        "    for i in range(0, n_sample, batch_size):\n",
        "\n",
        "        # pick sample\n",
        "        x_i = x[i:i+batch_size, :]\n",
        "        y_i = y[i:i+batch_size]\n",
        "\n",
        "        # predict\n",
        "        y_pred = linear(x_i)(w)\n",
        "        \n",
        "        # loss (debug)\n",
        "        l = mean_square_error(y_i)(y_pred) # np.abs(o - y_i)\n",
        "        losses.extend(l)\n",
        "\n",
        "        # compute gradient (d_weight)\n",
        "        dw = (d_vec_to_vec(mean_square_error(y_i), y_pred) @ d_vec_to_vec(linear(x_i), w)).T\n",
        "        \n",
        "        # Update weight\n",
        "        w = w - learning_rate*dw      \n"
      ],
      "id": "a66ee926-c45a-4096-b729-02dd156011be",
      "execution_count": 45,
      "outputs": []
    },
    {
      "cell_type": "code",
      "metadata": {
        "id": "b2f99333-f912-4ce7-b6b4-a84da4c4aaa7",
        "outputId": "2dff0bb8-113c-4ecd-8c83-650628ee46ea",
        "colab": {
          "base_uri": "https://localhost:8080/",
          "height": 265
        }
      },
      "source": [
        "plt.plot(losses);"
      ],
      "id": "b2f99333-f912-4ce7-b6b4-a84da4c4aaa7",
      "execution_count": 46,
      "outputs": [
        {
          "output_type": "display_data",
          "data": {
            "text/plain": [
              "<Figure size 432x288 with 1 Axes>"
            ],
            "image/png": "[encoded data removed]"
          },
          "metadata": {
            "needs_background": "light"
          }
        }
      ]
    },
    {
      "cell_type": "code",
      "metadata": {
        "id": "c2351802-9034-4b36-963c-0c3aecc486e1",
        "outputId": "308160cb-0024-4d12-d5f9-301d58eb69bd",
        "colab": {
          "base_uri": "https://localhost:8080/"
        }
      },
      "source": [
        "# Evaluate\n",
        "np.abs(x.dot(w) - y).mean()"
      ],
      "id": "c2351802-9034-4b36-963c-0c3aecc486e1",
      "execution_count": 48,
      "outputs": [
        {
          "output_type": "execute_result",
          "data": {
            "text/plain": [
              "2.5643165112515827"
            ]
          },
          "metadata": {},
          "execution_count": 48
        }
      ]
    },
    {
      "cell_type": "markdown",
      "metadata": {
        "id": "c3UJOR6LMgpN"
      },
      "source": [
        "---"
      ],
      "id": "c3UJOR6LMgpN"
    }
  ]
}