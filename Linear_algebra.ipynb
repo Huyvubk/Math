{
  "nbformat": 4,
  "nbformat_minor": 0,
  "metadata": {
    "colab": {
      "provenance": [],
      "include_colab_link": true
    },
    "kernelspec": {
      "name": "python3",
      "display_name": "Python 3"
    },
    "accelerator": "GPU"
  },
  "cells": [
    {
      "cell_type": "markdown",
      "metadata": {
        "id": "view-in-github",
        "colab_type": "text"
      },
      "source": [
        "<a href=\"https://colab.research.google.com/github/Huyvubk/Math/blob/main/Linear_algebra.ipynb\" target=\"_parent\"><img src=\"https://colab.research.google.com/assets/colab-badge.svg\" alt=\"Open In Colab\"/></a>"
      ]
    },
    {
      "cell_type": "markdown",
      "metadata": {
        "id": "dNNy9U-Jk0Yf"
      },
      "source": [
        "### Nội dung \n",
        "\n",
        "1. Vectors\n",
        "    - Ký hiệu \n",
        "    - Elementwise operations\n",
        "    - Dot product\n",
        "    - Hadamard product\n",
        "    - Inverse Vector \n",
        "    - Norm\n",
        "    \n",
        "2. Matrices\n",
        "    - Kích thước ma trận \n",
        "    - Scalar operations\n",
        "    - Elementwise operations\n",
        "    - Hadamard product\n",
        "    - Matrix multiplication (nhân ma trận)\n",
        "    - Matrix transpose (ma trận chuyển vị)\n",
        "    - Định thức - Determinants\n",
        "    \n",
        "3. Numpy\n",
        "    - Dot product\n",
        "    - Broadcasting\n",
        "  \n",
        "4. Linear Transformation\n",
        "    *   Ma trận bậc\n",
        "\n"
      ]
    },
    {
      "cell_type": "markdown",
      "metadata": {
        "id": "SQYcnksUk2l9"
      },
      "source": [
        "### 1. Vectors \n",
        "\n",
        "#### 1.1 Ký hiệu \n",
        "\n",
        "Có nhiều cách ký hiệu vectors khác nhau, hình ảnh bên dưới miêu tả một số cách ký hiệu thường gặp:\n",
        "\n",
        "<img src=\"https://github.com/thanhhff/AIVN-Machine-Learning/blob/master/Week%201/images/Linear-Algebra/la_0.png?raw=1\" style=\"width:30%;height:30%;\"> \n"
      ]
    },
    {
      "cell_type": "code",
      "source": [
        "import numpy as np\n",
        "v = np.array([1, 2, 3])"
      ],
      "metadata": {
        "id": "4L5_ZQigVKa7"
      },
      "execution_count": null,
      "outputs": []
    },
    {
      "cell_type": "code",
      "source": [
        "v"
      ],
      "metadata": {
        "colab": {
          "base_uri": "https://localhost:8080/"
        },
        "id": "qEBeqqvPWGqU",
        "outputId": "d26e6e82-97bf-43c9-bfb7-afed536e1905"
      },
      "execution_count": null,
      "outputs": [
        {
          "output_type": "execute_result",
          "data": {
            "text/plain": [
              "array([1, 2, 3])"
            ]
          },
          "metadata": {},
          "execution_count": 4
        }
      ]
    },
    {
      "cell_type": "code",
      "source": [
        "# l1 norm of a vector\n",
        "from numpy import array\n",
        "from numpy.linalg import norm\n",
        "a = np.array([1, 1])\n",
        "l1 = norm(a, 1)\n",
        "l2 = norm(a, 2)\n",
        "print(l1, l2)"
      ],
      "metadata": {
        "colab": {
          "base_uri": "https://localhost:8080/"
        },
        "id": "a-aC4WRvVfjt",
        "outputId": "ea41762d-22ca-4b7d-d46a-914499389812"
      },
      "execution_count": null,
      "outputs": [
        {
          "output_type": "stream",
          "name": "stdout",
          "text": [
            "2.0 1.4142135623730951\n"
          ]
        }
      ]
    },
    {
      "cell_type": "markdown",
      "metadata": {
        "id": "77EcpuPvlQyU"
      },
      "source": [
        "#### 1.2 Elementwise operations\n",
        "\n",
        "Khi thực hiện các phép toán: cộng, trừ, nhân, chia... các vector, Elementwise cho phép thực hiện các phép toán này từng vị trí tương ứng giữa các Vector. \n",
        "\n",
        "Ví dụ: phần tử thứ 1 của Vecto A sẽ thực hiện cộng với phần tử thứ 1 của Vector B, phần tử thứ 2 của A sẽ thực hiện tương ứng với phần tử thứ 2 của B. \n",
        "\n",
        "<img src=\"https://github.com/thanhhff/AIVN-Machine-Learning/blob/master/Week%201/images/Linear-Algebra/la_3.png?raw=1\" style=\"width:30%;height:30%;\"> \n"
      ]
    },
    {
      "cell_type": "code",
      "metadata": {
        "id": "-C1SsfBHk0z0",
        "colab": {
          "base_uri": "https://localhost:8080/"
        },
        "outputId": "3ecf07a6-1e4c-4842-923d-b8dfc5b25ce1"
      },
      "source": [
        "import numpy as np\n",
        "y = np.array([1, 2, 3])\n",
        "x = np.array([2, 3, 4])\n",
        "print(x + y)\n"
      ],
      "execution_count": null,
      "outputs": [
        {
          "output_type": "stream",
          "name": "stdout",
          "text": [
            "[3 5 7]\n"
          ]
        }
      ]
    },
    {
      "cell_type": "code",
      "source": [
        "print(x - y)\n",
        "print(x / y)\n",
        "print(2*x - 3*y)"
      ],
      "metadata": {
        "colab": {
          "base_uri": "https://localhost:8080/"
        },
        "id": "hjSJH_2dlsjp",
        "outputId": "7942c03f-3827-471a-dcaf-7ffe1774b37a"
      },
      "execution_count": null,
      "outputs": [
        {
          "output_type": "stream",
          "name": "stdout",
          "text": [
            "[1 1 1]\n",
            "[2.         1.5        1.33333333]\n",
            "[ 1  0 -1]\n"
          ]
        }
      ]
    },
    {
      "cell_type": "markdown",
      "metadata": {
        "id": "rCUKjRFzlaZz"
      },
      "source": [
        "#### 1.3 Phép nhân Vector \n",
        "Có 2 kiểu nhân Vector là: phép Dot product và Hadamard product.\n"
      ]
    },
    {
      "cell_type": "markdown",
      "metadata": {
        "id": "Kg7W7ncmliv5"
      },
      "source": [
        "##### 1.3.1 Dot product \n",
        "\n",
        "Tích của 2 vector sẽ là một vô hướng (scalar).\n",
        "\n",
        "<img src=\"https://github.com/thanhhff/AIVN-Machine-Learning/blob/master/Week%201/images/Linear-Algebra/la_4.png?raw=1\" style=\"width:30%;height:30%;\"> \n"
      ]
    },
    {
      "cell_type": "code",
      "metadata": {
        "id": "G44lC0ublYLW",
        "colab": {
          "base_uri": "https://localhost:8080/"
        },
        "outputId": "83ab30e8-491c-4c02-81fc-bd8ea2a79bbf"
      },
      "source": [
        "y = np.array([-1,2,-3])\n",
        "x = np.array([2,-3,4])\n",
        "np.dot(y,x)\n",
        "# -1 * 2 + 2 * (-3) + (-3) * 4"
      ],
      "execution_count": null,
      "outputs": [
        {
          "output_type": "execute_result",
          "data": {
            "text/plain": [
              "-20"
            ]
          },
          "metadata": {},
          "execution_count": 8
        }
      ]
    },
    {
      "cell_type": "code",
      "source": [
        "y.dot(x)\n",
        "x.dot(y)"
      ],
      "metadata": {
        "colab": {
          "base_uri": "https://localhost:8080/"
        },
        "id": "sy9wal3aMqHm",
        "outputId": "2a48d3d3-51d3-40a9-a8fa-4767234c9d7c"
      },
      "execution_count": null,
      "outputs": [
        {
          "output_type": "execute_result",
          "data": {
            "text/plain": [
              "-20"
            ]
          },
          "metadata": {},
          "execution_count": 9
        }
      ]
    },
    {
      "cell_type": "code",
      "source": [
        "x @ y"
      ],
      "metadata": {
        "colab": {
          "base_uri": "https://localhost:8080/"
        },
        "id": "68mXjkofMss1",
        "outputId": "36aee16e-d799-43ab-c1fc-48677746162c"
      },
      "execution_count": null,
      "outputs": [
        {
          "output_type": "execute_result",
          "data": {
            "text/plain": [
              "-20"
            ]
          },
          "metadata": {},
          "execution_count": 10
        }
      ]
    },
    {
      "cell_type": "markdown",
      "source": [
        "Cosine giữa 2 vector"
      ],
      "metadata": {
        "id": "q_FjHX5ZNg5w"
      }
    },
    {
      "cell_type": "code",
      "source": [
        "from numpy import dot\n",
        "from numpy.linalg import norm\n",
        "\n",
        "cos_sim = dot(x, y)/(norm(x)*norm(y))"
      ],
      "metadata": {
        "id": "21S8WQhcNiRy"
      },
      "execution_count": null,
      "outputs": []
    },
    {
      "cell_type": "code",
      "source": [
        "cos_sim"
      ],
      "metadata": {
        "colab": {
          "base_uri": "https://localhost:8080/"
        },
        "id": "2x6BspB6NsbD",
        "outputId": "dad885cd-f878-4a57-a07e-ea28adae6dda"
      },
      "execution_count": null,
      "outputs": [
        {
          "output_type": "execute_result",
          "data": {
            "text/plain": [
              "-0.9925833339709303"
            ]
          },
          "metadata": {},
          "execution_count": 12
        }
      ]
    },
    {
      "cell_type": "markdown",
      "metadata": {
        "id": "stAP84V3lnVo"
      },
      "source": [
        "##### 1.3.2 Hadamard product \n",
        "\n",
        "Hadamard product sẽ thực hiện phép nhân elementwise để tạo ra vector mới.\n",
        "\n",
        "<img src=\"https://github.com/thanhhff/AIVN-Machine-Learning/blob/master/Week%201/images/Linear-Algebra/la_5.png?raw=1\" style=\"width:30%;height:30%;\"> \n"
      ]
    },
    {
      "cell_type": "code",
      "metadata": {
        "id": "IRwfuyb3lkuu",
        "colab": {
          "base_uri": "https://localhost:8080/"
        },
        "outputId": "e90f5919-355d-45ec-da7f-d8c4e2d1e7d6"
      },
      "source": [
        "y = np.array([1,2,3])\n",
        "x = np.array([2,3,4])\n",
        "y * x "
      ],
      "execution_count": null,
      "outputs": [
        {
          "output_type": "execute_result",
          "data": {
            "text/plain": [
              "array([ 2,  6, 12])"
            ]
          },
          "metadata": {},
          "execution_count": 13
        }
      ]
    },
    {
      "cell_type": "markdown",
      "metadata": {
        "id": "WkswevpSomh8"
      },
      "source": [
        "#### 1.4 Inverse Vector"
      ]
    },
    {
      "cell_type": "code",
      "metadata": {
        "id": "mCcePs8V3wp9"
      },
      "source": [
        "A = np.array([\n",
        "              [2, 3],[4, 5]\n",
        "              \n",
        "])"
      ],
      "execution_count": null,
      "outputs": []
    },
    {
      "cell_type": "code",
      "metadata": {
        "id": "a89TScLLo0LM"
      },
      "source": [
        "import numpy as np\n",
        "\n",
        "A = np.array([\n",
        "              [2, 3],\n",
        "              [4, 5]\n",
        "])\n",
        "\n",
        "A_inverse = np.linalg.inv(A)"
      ],
      "execution_count": null,
      "outputs": []
    },
    {
      "cell_type": "code",
      "metadata": {
        "id": "N9oK0jCmo4Qy",
        "colab": {
          "base_uri": "https://localhost:8080/"
        },
        "outputId": "65f97f89-eb97-4ec7-b8e7-95be962a4c4c"
      },
      "source": [
        "A_inverse"
      ],
      "execution_count": null,
      "outputs": [
        {
          "output_type": "execute_result",
          "data": {
            "text/plain": [
              "array([[-2.5,  1.5],\n",
              "       [ 2. , -1. ]])"
            ]
          },
          "metadata": {},
          "execution_count": 16
        }
      ]
    },
    {
      "cell_type": "code",
      "metadata": {
        "id": "y9JUAgyHo87s",
        "colab": {
          "base_uri": "https://localhost:8080/"
        },
        "outputId": "70756fad-3422-4ef8-f2e4-ff697456f312"
      },
      "source": [
        "A.dot(A_inverse)"
      ],
      "execution_count": null,
      "outputs": [
        {
          "output_type": "execute_result",
          "data": {
            "text/plain": [
              "array([[1., 0.],\n",
              "       [0., 1.]])"
            ]
          },
          "metadata": {},
          "execution_count": 17
        }
      ]
    },
    {
      "cell_type": "markdown",
      "metadata": {
        "id": "Q7gthBC6ur3i"
      },
      "source": [
        "1.5 Norm"
      ]
    },
    {
      "cell_type": "code",
      "metadata": {
        "id": "nVxyAH3puu2I",
        "colab": {
          "base_uri": "https://localhost:8080/"
        },
        "outputId": "8314dabb-4aa1-4bd8-a7ae-7076b4344784"
      },
      "source": [
        "# l1 norm of a vector\n",
        "from numpy import array\n",
        "from numpy.linalg import norm\n",
        "a = array([-1, 100, -6, -11, 3])\n",
        "print(a)\n",
        "l1 = norm(a, 1)\n",
        "print(l1)"
      ],
      "execution_count": null,
      "outputs": [
        {
          "output_type": "stream",
          "name": "stdout",
          "text": [
            "[ -1 100  -6 -11   3]\n",
            "121.0\n"
          ]
        }
      ]
    },
    {
      "cell_type": "code",
      "metadata": {
        "id": "wpB-W1xFu5kA",
        "colab": {
          "base_uri": "https://localhost:8080/"
        },
        "outputId": "ba7bbba2-6da4-4827-b02f-966f9be8e27b"
      },
      "source": [
        "# l2 norm of a vector\n",
        "from numpy import array\n",
        "from numpy.linalg import norm\n",
        "a = array([0, 3, 4])\n",
        "print(a)\n",
        "l2 = norm(a, 2)\n",
        "print(l2)"
      ],
      "execution_count": null,
      "outputs": [
        {
          "output_type": "stream",
          "name": "stdout",
          "text": [
            "[0 3 4]\n",
            "5.0\n"
          ]
        }
      ]
    },
    {
      "cell_type": "markdown",
      "metadata": {
        "id": "nQJQMc3IlsP7"
      },
      "source": [
        "### 2. Matrices\n",
        "\n",
        "Matrices (ma trận) là một lưới hình chữ nhật (ví dụ: bảng tính Excel). "
      ]
    },
    {
      "cell_type": "markdown",
      "metadata": {
        "id": "0DC_6Akyltat"
      },
      "source": [
        "#### 2.1 Kích thước ma trận \n",
        "\n",
        "Kích thước của ma trận = `[ số hàng x số cột ]`\n",
        "\n",
        "<img src=\"https://github.com/thanhhff/AIVN-Machine-Learning/blob/master/Week%201/images/Linear-Algebra/la_6.png?raw=1\" style=\"width:30%;height:30%;\"> \n"
      ]
    },
    {
      "cell_type": "code",
      "source": [
        "v = np.array([[2, 4], [5, -7], [12, 5]])"
      ],
      "metadata": {
        "id": "WW316i5pkW63"
      },
      "execution_count": null,
      "outputs": []
    },
    {
      "cell_type": "code",
      "source": [
        "v.shape"
      ],
      "metadata": {
        "colab": {
          "base_uri": "https://localhost:8080/"
        },
        "id": "rAy6lzjVknLN",
        "outputId": "e2010511-869d-4173-850c-8beff734a938"
      },
      "execution_count": null,
      "outputs": [
        {
          "output_type": "execute_result",
          "data": {
            "text/plain": [
              "(3, 2)"
            ]
          },
          "metadata": {},
          "execution_count": 21
        }
      ]
    },
    {
      "cell_type": "code",
      "metadata": {
        "id": "3yX-cyiulrAt",
        "colab": {
          "base_uri": "https://localhost:8080/"
        },
        "outputId": "45db8040-1612-4482-ee84-6550a077014f"
      },
      "source": [
        "a = np.array([[1,2,3],[4,5,6], [7,8,9] \n",
        "             ])\n",
        "\n",
        "print(a.shape)\n",
        "b = np.array([[1,2,3]])\n",
        "\n",
        "print(b.shape)"
      ],
      "execution_count": null,
      "outputs": [
        {
          "output_type": "stream",
          "name": "stdout",
          "text": [
            "(3, 3)\n",
            "(1, 3)\n"
          ]
        }
      ]
    },
    {
      "cell_type": "markdown",
      "metadata": {
        "id": "pYj2SRSMlwSh"
      },
      "source": [
        "#### 2.2 Scalar operations\n",
        "\n",
        "Các phép toán liên quan tới Scalar của Matrix có cách hoạt động tương tự với Vector.\n",
        "\n",
        "<img src=\"https://github.com/thanhhff/AIVN-Machine-Learning/blob/master/Week%201/images/Linear-Algebra/la_7.png?raw=1\" style=\"width:30%;height:30%;\"> \n"
      ]
    },
    {
      "cell_type": "code",
      "metadata": {
        "id": "dnlBAadOl1Sy",
        "colab": {
          "base_uri": "https://localhost:8080/"
        },
        "outputId": "35e66915-d209-436e-e312-acfdc87be1f3"
      },
      "source": [
        "a = np.array([[1,2], \n",
        "              [3,4]])\n",
        "a + 1"
      ],
      "execution_count": null,
      "outputs": [
        {
          "output_type": "execute_result",
          "data": {
            "text/plain": [
              "array([[2, 3],\n",
              "       [4, 5]])"
            ]
          },
          "metadata": {},
          "execution_count": 23
        }
      ]
    },
    {
      "cell_type": "markdown",
      "metadata": {
        "id": "jOc7HhZ1l0Ff"
      },
      "source": [
        "#### 2.3 Elementwise operations\n",
        "\n",
        "Để có thể thực hiện phép Elemenetwise trên Matrix, các Matrix phải có **cùng kích thước** với nhau. Chúng ta sẽ thực hiện kết hợp các giá trị tương ứng với từng vị trí của các Matrix với nhau để tạo ra 1 Matrix mới. \n",
        "\n",
        "<img src=\"https://github.com/thanhhff/AIVN-Machine-Learning/blob/master/Week%201/images/Linear-Algebra/la_8.png?raw=1\" style=\"width:30%;height:30%;\"> "
      ]
    },
    {
      "cell_type": "code",
      "metadata": {
        "id": "Y3G5vukYl51q",
        "colab": {
          "base_uri": "https://localhost:8080/"
        },
        "outputId": "3f49a3da-9ea9-4c58-f196-f11eb33a132e"
      },
      "source": [
        "a = np.array([[1,2],\n",
        "              [3,4]])\n",
        "b = np.array([[1,2],\n",
        "              [3,4]])\n",
        "\n",
        "print(\"a + b: \\n\",a + b)"
      ],
      "execution_count": null,
      "outputs": [
        {
          "output_type": "stream",
          "name": "stdout",
          "text": [
            "a + b: \n",
            " [[2 4]\n",
            " [6 8]]\n"
          ]
        }
      ]
    },
    {
      "cell_type": "markdown",
      "metadata": {
        "id": "d71n5qdql4_S"
      },
      "source": [
        "#### 2.4 Hadamard product\n",
        "\n",
        "Matrix hadamard product sẽ thực hiện phép nhân elementwise.\n",
        "\n",
        "<img src=\"https://github.com/thanhhff/AIVN-Machine-Learning/blob/master/Week%201/images/Linear-Algebra/la_9.png?raw=1\" style=\"width:40%;height:40%;\"> "
      ]
    },
    {
      "cell_type": "code",
      "metadata": {
        "id": "vQjBaUdOl8la",
        "colab": {
          "base_uri": "https://localhost:8080/"
        },
        "outputId": "5bd47b1f-84ba-4827-b69a-4953c195be4f"
      },
      "source": [
        "a = np.array([[2,3],\n",
        "              [2,3]])\n",
        "\n",
        "b = np.array([[3,4],\n",
        "            [5,6]])\n",
        "# Uses python's multiply operator\n",
        "a * b"
      ],
      "execution_count": null,
      "outputs": [
        {
          "output_type": "execute_result",
          "data": {
            "text/plain": [
              "array([[ 6, 12],\n",
              "       [10, 18]])"
            ]
          },
          "metadata": {},
          "execution_count": 25
        }
      ]
    },
    {
      "cell_type": "markdown",
      "metadata": {
        "id": "bM2026FEl-Nj"
      },
      "source": [
        "Trong Python, chúng ta có thể sử dụng phép Hadamard giữa vector và matrix. Khi đó, Python sẽ sử dụng phương thức **broadcasting** (chúng ta sẽ tìm hiểu phương thức này bên dưới).\n",
        "\n",
        "<img src=\"https://github.com/thanhhff/AIVN-Machine-Learning/blob/master/Week%201/images/Linear-Algebra/la_10.png?raw=1\" style=\"width:40%;height:40%;\"> "
      ]
    },
    {
      "cell_type": "code",
      "metadata": {
        "id": "Vv_iSw1ynw96",
        "colab": {
          "base_uri": "https://localhost:8080/"
        },
        "outputId": "7fe061f1-1066-4dd6-99ad-83eb9f0a6ebf"
      },
      "source": [
        "a = np.array([[2,3],\n",
        "              [3,3]])\n",
        "\n",
        "b = np.array([3,4])\n",
        "# Uses python's multiply operator\n",
        "a * b"
      ],
      "execution_count": null,
      "outputs": [
        {
          "output_type": "execute_result",
          "data": {
            "text/plain": [
              "array([[ 6, 12],\n",
              "       [ 9, 12]])"
            ]
          },
          "metadata": {},
          "execution_count": 26
        }
      ]
    },
    {
      "cell_type": "markdown",
      "metadata": {
        "id": "riYg8q_ImF8F"
      },
      "source": [
        "#### 2.5 Matrix multiplication (nhân ma trận) - Dot Product \n",
        "\n",
        "Cho hai ma trận $A (m$ x $n), B (n $ x $p)$, tích của hai ma trận được ký hiệu là $C = AB$ khi đó $C$ có kích thước $m$ x $p$. Ma trận C được tạo thành được tính như hình dưới đây:\n",
        "\n",
        "<img src=\"https://github.com/thanhhff/AIVN-Machine-Learning/blob/master/Week%201/images/Linear-Algebra/la_12.png?raw=1\" style=\"width:40%;height:40%;\"> \n",
        "\n",
        "**Chú ý:** để nhân được hai ma trận, số cột của ma trận thứ nhất phải bằng số hàng của ma trận thứ hai. \n",
        "\n",
        "Một số tính chất của ma trận:\n",
        "   - Phép nhân ma trận **không** có tính chất giao hoán.\n",
        "   - Phép nhân ma trận có tính kết hợp: $ABC = (AB)C = A(BC)$\n",
        "   - Phép nhân ma trận có tính giao hoán: $A(B+C) = AB + AC$\n",
        "   - Chuyển vị của một tích bằng tích chuyển vị theo thứ tự ngược lại: $(AB)^T = B^TA^T$"
      ]
    },
    {
      "cell_type": "code",
      "metadata": {
        "id": "vVJW-mHTnI3i",
        "colab": {
          "base_uri": "https://localhost:8080/"
        },
        "outputId": "d8686aa6-9592-42b8-b2d1-22b705af293e"
      },
      "source": [
        "A = np.array([[1, 7], [2, 4]])\n",
        "B = np.array([[3, 3], [5, 2]])\n",
        "\n",
        "np.dot(A, B) "
      ],
      "execution_count": null,
      "outputs": [
        {
          "output_type": "execute_result",
          "data": {
            "text/plain": [
              "array([[38, 17],\n",
              "       [26, 14]])"
            ]
          },
          "metadata": {},
          "execution_count": 27
        }
      ]
    },
    {
      "cell_type": "code",
      "metadata": {
        "colab": {
          "base_uri": "https://localhost:8080/"
        },
        "id": "b_rRTyJy6nDC",
        "outputId": "6be4bb0d-6b68-4ec8-d3d2-c107395cecbc"
      },
      "source": [
        "A.dot(B)"
      ],
      "execution_count": null,
      "outputs": [
        {
          "output_type": "execute_result",
          "data": {
            "text/plain": [
              "array([[38, 17],\n",
              "       [26, 14]])"
            ]
          },
          "metadata": {},
          "execution_count": 28
        }
      ]
    },
    {
      "cell_type": "code",
      "metadata": {
        "id": "8RU7S4WMoFKx",
        "colab": {
          "base_uri": "https://localhost:8080/"
        },
        "outputId": "23642b54-ac1c-42ed-eaab-e931d3bb6478"
      },
      "source": [
        "np.dot(B, A)"
      ],
      "execution_count": null,
      "outputs": [
        {
          "output_type": "execute_result",
          "data": {
            "text/plain": [
              "array([[ 9, 33],\n",
              "       [ 9, 43]])"
            ]
          },
          "metadata": {},
          "execution_count": 29
        }
      ]
    },
    {
      "cell_type": "markdown",
      "metadata": {
        "id": "RQBoQ13wmAre"
      },
      "source": [
        "#### 2.6 Ma trận chuyển vị \n",
        "\n",
        "Ma trận chuyển vị thường được ký hiệu bằng chữ $T$. Ví dụ chuyển vị của ma trận $M$ được ký hiệu $M^T$\n",
        "\n",
        "Ví dụ: với M là ma trận ban đầu, T là ma trận chuyển vị.\n",
        "<img src=\"https://github.com/thanhhff/AIVN-Machine-Learning/blob/master/Week%201/images/Linear-Algebra/la_11.png?raw=1\" style=\"width:20%;height:20%;\"> \n",
        "\n",
        "Nếu $A^T = A$ thì ta nói A là một **ma trận đối xứng**."
      ]
    },
    {
      "cell_type": "code",
      "metadata": {
        "id": "-nep6vtBl-ru",
        "colab": {
          "base_uri": "https://localhost:8080/"
        },
        "outputId": "f66dfe4e-89d7-458c-a255-33faaf26a638"
      },
      "source": [
        "a = np.array([[1, 2], \n",
        "              [3, 4]])\n",
        "\n",
        "print(a.T)"
      ],
      "execution_count": null,
      "outputs": [
        {
          "output_type": "stream",
          "name": "stdout",
          "text": [
            "[[1 3]\n",
            " [2 4]]\n"
          ]
        }
      ]
    },
    {
      "cell_type": "code",
      "metadata": {
        "colab": {
          "base_uri": "https://localhost:8080/"
        },
        "id": "gXxyY-wZ6zuJ",
        "outputId": "1a83c116-d689-43ae-b128-9290b1dc99be"
      },
      "source": [
        "np.transpose(a)"
      ],
      "execution_count": null,
      "outputs": [
        {
          "output_type": "execute_result",
          "data": {
            "text/plain": [
              "array([[1, 3],\n",
              "       [2, 4]])"
            ]
          },
          "metadata": {},
          "execution_count": 31
        }
      ]
    },
    {
      "cell_type": "markdown",
      "metadata": {
        "id": "a5uFNPErpIDn"
      },
      "source": [
        "#### 2.7 Định thức "
      ]
    },
    {
      "cell_type": "code",
      "metadata": {
        "id": "-OoVJbIwpKCe"
      },
      "source": [
        "import numpy as np\n",
        "\n",
        "A = np.array([\n",
        "              [1, -2, 4],\n",
        "              [-5, 3, -1],\n",
        "              [3, 4, 1]\n",
        "])"
      ],
      "execution_count": null,
      "outputs": []
    },
    {
      "cell_type": "code",
      "metadata": {
        "id": "nNnlPXCZpPqd",
        "colab": {
          "base_uri": "https://localhost:8080/"
        },
        "outputId": "9331772c-b612-4bb7-cd49-1d716855fa36"
      },
      "source": [
        "np.linalg.det(A)"
      ],
      "execution_count": null,
      "outputs": [
        {
          "output_type": "execute_result",
          "data": {
            "text/plain": [
              "-113.00000000000003"
            ]
          },
          "metadata": {},
          "execution_count": 33
        }
      ]
    },
    {
      "cell_type": "markdown",
      "metadata": {
        "id": "f1nA0jRrmMt-"
      },
      "source": [
        "### 3. Numpy \n",
        "\n",
        "#### 3.1 Dot product\n",
        "\n",
        "Chúng ta sẽ sử dụng function `np.dot` (numpy.dot) để thực hiện phép Dot product (nhân ma trận). Các bạn cần chú ý về kích thước của các phần tử khi thực hiên phép toán."
      ]
    },
    {
      "cell_type": "code",
      "metadata": {
        "id": "UpQ3SvmQmQnX",
        "colab": {
          "base_uri": "https://localhost:8080/"
        },
        "outputId": "722af31c-4a2f-4a27-fe68-a7a52cdec08a"
      },
      "source": [
        "a = np.array([[1, 2]])\n",
        "print('a_shape: ', a.shape)\n",
        "\n",
        "b = np.array([[3, 4],\n",
        "              [5, 6]])\n",
        "print('b_shape: ', b.shape)\n",
        "\n",
        "\n",
        "# Multiply\n",
        "mm = np.dot(a,b)\n",
        "print('mm: \\n', mm)\n",
        "print('mm_shape: ', mm.shape)"
      ],
      "execution_count": null,
      "outputs": [
        {
          "output_type": "stream",
          "name": "stdout",
          "text": [
            "a_shape:  (1, 2)\n",
            "b_shape:  (2, 2)\n",
            "mm: \n",
            " [[13 16]]\n",
            "mm_shape:  (1, 2)\n"
          ]
        }
      ]
    },
    {
      "cell_type": "markdown",
      "metadata": {
        "id": "Q6hlIh6emT5K"
      },
      "source": [
        "#### 3.2 Broadcasting \n",
        "\n",
        "Broadcasting cho phép thực thi các phép toán trên các mảng có kích thước khác nhau. \n",
        "\n",
        "<img src=\"https://github.com/thanhhff/AIVN-Machine-Learning/blob/master/Week%201/images/Linear-Algebra/chap5_np_32.png?raw=1\" style=\"width:50%;height:50%;\"> \n"
      ]
    },
    {
      "cell_type": "code",
      "metadata": {
        "id": "V1xRsGfAmSj0",
        "colab": {
          "base_uri": "https://localhost:8080/"
        },
        "outputId": "f1af957f-8caf-494a-c333-249cb31df7ed"
      },
      "source": [
        "import numpy as np\n",
        "\n",
        "X = np.array([[1,2,3],[4,5,6],[7,8,9],[10,11,12]]) # (4, 3)\n",
        "v = np.array([1,0, 4]) # (1, 3) -> (4, 3)\n",
        "Y = X + v \n",
        "print(Y)"
      ],
      "execution_count": null,
      "outputs": [
        {
          "output_type": "stream",
          "name": "stdout",
          "text": [
            "[[ 2  2  7]\n",
            " [ 5  5 10]\n",
            " [ 8  8 13]\n",
            " [11 11 16]]\n"
          ]
        }
      ]
    },
    {
      "cell_type": "markdown",
      "metadata": {
        "id": "WKdM9L1pCe7h"
      },
      "source": [
        "[Xem thêm](https://github.com/bangoc123/learn-machine-learning-in-two-months/blob/master/numpy/broadcasting.ipynb\n",
        ") \n",
        "![](https://camo.githubusercontent.com/f228c17af4716c6f164ef7c14c690c8fe710388e/68747470733a2f2f6c68332e676f6f676c6575736572636f6e74656e742e636f6d2f76437a6f7a754a52384c6a6b633135704a6d534c7a4b2d59434544546c686250586a4d7575612d2d647151353443686f7a3248764e3948566f676276356d6637305a6e714a31664279694e7570534c355f6f39454d6938574e4c7856567131446957394547664b45646876383736513679465172654d3052306575394c774931766247614f55705043675f3543395f59423769546b635647775279473549584a37486b364452364e6a5a787848483634724e7267636a63367a6170573172615765337568587556483470643679686d6847637a6975746a2d6173356b4b306c315862615369677635547237506f6b774b71614f73705a4b594d34793374484d44624f4359746e4c4d795373656958525f65464c51735a6255633764396d397546505967473172516b5a4378586e39746c706f773239494268702d336f73413671754c7a4749666373595670487230784377456a3467597359795959312d393657516457302d634b59516c704c4831337131437164344533574153727953567841627163544f6c2d4530336b335342326d576e357076634b38662d577a6b313038754c35626847706d76764441454f434a50396f343143436e3845386559764761444f67416a765975647447455a5648506e346f795150593947525876383570586b503971477546694b5556506e7234636e6f6339772d53792d645448775f50534c616c65794d6d36772d6d3635683858676e7342793542774b47364552733641316b4a564466554959433153565169706f4b37776f7441677a426b55304a4d5165485f4e6b6e6d48576e50524a5639615a644a3744635139484c7351524c545472456b7447677a714962496a4e6c537869705a73516a5f4b527535744c41467a557849794c64637a46324f46716c544357556436494b365f746d327779636f5a72673d773433322d683332342d6e6f)"
      ]
    },
    {
      "cell_type": "markdown",
      "metadata": {
        "id": "yI8-6c8VE2aX"
      },
      "source": [
        "### 4. Linear Transformation \n",
        "\n",
        "#### 4.1 Ma trận bậc\n"
      ]
    },
    {
      "cell_type": "code",
      "metadata": {
        "id": "mQUB43QFFGw9"
      },
      "source": [
        "import numpy as np"
      ],
      "execution_count": null,
      "outputs": []
    },
    {
      "cell_type": "code",
      "metadata": {
        "id": "RsQxi3wuE_qe"
      },
      "source": [
        "x = np.array([[-1, -1, 1], [0, 1, 1]])"
      ],
      "execution_count": null,
      "outputs": []
    },
    {
      "cell_type": "code",
      "metadata": {
        "id": "tCSf3QHnFQWw"
      },
      "source": [
        "D = np.array([[2, 0], [0, -1]])"
      ],
      "execution_count": null,
      "outputs": []
    },
    {
      "cell_type": "code",
      "metadata": {
        "id": "6UJFnWHRFWBR",
        "colab": {
          "base_uri": "https://localhost:8080/"
        },
        "outputId": "bc3003de-516c-4864-f699-5e5c92005b60"
      },
      "source": [
        "D.dot(x)"
      ],
      "execution_count": null,
      "outputs": [
        {
          "output_type": "execute_result",
          "data": {
            "text/plain": [
              "array([[-2, -2,  2],\n",
              "       [ 0, -1, -1]])"
            ]
          },
          "metadata": {},
          "execution_count": 39
        }
      ]
    },
    {
      "cell_type": "code",
      "metadata": {
        "id": "WKI8QJanFXq6"
      },
      "source": [],
      "execution_count": null,
      "outputs": []
    },
    {
      "cell_type": "markdown",
      "source": [
        "### 5. Tensor"
      ],
      "metadata": {
        "id": "JPbDIu6nATXJ"
      }
    },
    {
      "cell_type": "code",
      "source": [
        "a = np.array([[1, 2], [3, 4]])"
      ],
      "metadata": {
        "id": "fLoT3lEJAWRe"
      },
      "execution_count": null,
      "outputs": []
    },
    {
      "cell_type": "code",
      "source": [
        "t = np.array([[[1, 2], [3, 4]], [[1, 2], [3, 4]]])"
      ],
      "metadata": {
        "id": "L1Ku_ydiAbkh"
      },
      "execution_count": null,
      "outputs": []
    },
    {
      "cell_type": "code",
      "source": [
        "t.shape"
      ],
      "metadata": {
        "colab": {
          "base_uri": "https://localhost:8080/"
        },
        "id": "DTE6xvdpAltu",
        "outputId": "22ca5a7b-1524-4d1a-89ab-358a77489c70"
      },
      "execution_count": null,
      "outputs": [
        {
          "output_type": "execute_result",
          "data": {
            "text/plain": [
              "(2, 2, 2)"
            ]
          },
          "metadata": {},
          "execution_count": 42
        }
      ]
    },
    {
      "cell_type": "code",
      "source": [
        "t2 = np.array([[[[1, 2], [3, 4]], [[1, 2], [3, 4]]], [[[1, 2], [3, 4]], [[1, 2], [3, 4]]]])"
      ],
      "metadata": {
        "id": "qK6zPf07Amfs"
      },
      "execution_count": null,
      "outputs": []
    },
    {
      "cell_type": "code",
      "source": [
        "t2.shape"
      ],
      "metadata": {
        "colab": {
          "base_uri": "https://localhost:8080/"
        },
        "id": "THwWfOT-Ardk",
        "outputId": "29eb9e30-65ae-4564-98a4-95c35981ad03"
      },
      "execution_count": null,
      "outputs": [
        {
          "output_type": "execute_result",
          "data": {
            "text/plain": [
              "(2, 2, 2, 2)"
            ]
          },
          "metadata": {},
          "execution_count": 44
        }
      ]
    },
    {
      "cell_type": "code",
      "source": [
        "t3 = np.array([[[[[1, 2], [3, 4]], [[1, 2], [3, 4]]], [[[1, 2], [3, 4]], [[1, 2], [3, 4]]]], [[[[1, 2], [3, 4]], [[1, 2], [3, 4]]], [[[1, 2], [3, 4]], [[1, 2], [3, 4]]]], [[[[1, 2], [3, 4]], [[1, 2], [3, 4]]], [[[1, 2], [3, 4]], [[1, 2], [3, 4]]]], [[[[1, 2], [3, 4]], [[1, 2], [3, 4]]], [[[1, 2], [3, 4]], [[1, 2], [3, 4]]]]])"
      ],
      "metadata": {
        "id": "dA2S2JQnAsyB"
      },
      "execution_count": null,
      "outputs": []
    },
    {
      "cell_type": "code",
      "source": [
        "t3.shape"
      ],
      "metadata": {
        "id": "LtBXC9sjAxlU",
        "outputId": "0526b7c9-bae9-4094-d7b7-edbefdf6bc83",
        "colab": {
          "base_uri": "https://localhost:8080/"
        }
      },
      "execution_count": null,
      "outputs": [
        {
          "output_type": "execute_result",
          "data": {
            "text/plain": [
              "(4, 2, 2, 2, 2)"
            ]
          },
          "metadata": {},
          "execution_count": 46
        }
      ]
    },
    {
      "cell_type": "markdown",
      "metadata": {
        "id": "PsDv-fHV1q7D"
      },
      "source": [
        "### HW\n",
        "Viết đoạn code tìm giá trị a,b,c,d trong hệ phương trình dưới đây **(không sử dụng np.linalg.lstsq)**:\n",
        "\n",
        "$\n",
        "\\begin{align}\n",
        "3a + 4b - 5c + d &= 10\\\\\n",
        "2a + 2b + 2c - d &= 5\\\\\n",
        "a -b + 5c - 5d &= 7\\\\\n",
        "5a + d &= 4\n",
        "\\end{align}\n",
        "$"
      ]
    },
    {
      "cell_type": "markdown",
      "metadata": {
        "id": "Cw71SaO08sg0"
      },
      "source": [
        "Sử dụng công thức Least Square Estimation bên dưới:\n",
        "\n",
        "$\\begin{align}\n",
        "Ax &= b \\\\        \n",
        "A^TAx &= A^Tb \\\\\n",
        "x &= (A^TA)^{-1}A^Tb\n",
        "\\end{align}\n",
        "$\n",
        "\n",
        "Có 3 thành phần cần xác định: ma trận A, vector x, vector b\n",
        "\n",
        "- x: vector gồm các element là biến cần tìm (a, b, c, d)\n",
        "- b: vector gồm các element là kết quả từng phương trình trong hệ phương trình (10, 5, 7, 4)\n",
        "- A: là ma trận gồm mỗi cột là hệ số tương ứng cho các biến (a, b, c, d), mỗi hàng là một phương trinh. Số cột = số biến, và số hàng = số các kết quả  \n",
        "- Tại phương trình cuối $5a+d=4$ hệ số của b và c đều là 0"
      ]
    },
    {
      "cell_type": "code",
      "source": [],
      "metadata": {
        "id": "qdw5KxrbAkuL"
      },
      "execution_count": null,
      "outputs": []
    },
    {
      "cell_type": "code",
      "metadata": {
        "colab": {
          "base_uri": "https://localhost:8080/"
        },
        "id": "ca8i8nH28IZ3",
        "outputId": "9f616289-ec8e-4664-cd19-2cc87937f84f"
      },
      "source": [
        "import numpy as np\n",
        "A = np.array([[3, 4, -5, 1],\n",
        "              [2, 2, 2, -1],\n",
        "              [1, -1, 5, -5],\n",
        "              [5, 0, 0, 1]]) \n",
        "b = np.array([10, 5, 7, 4])\n",
        "\n",
        "x = np.linalg.inv(A.T@A)@A.T@b\n",
        "x"
      ],
      "execution_count": null,
      "outputs": [
        {
          "output_type": "execute_result",
          "data": {
            "text/plain": [
              "array([ 1.24778761,  1.01769912, -0.88495575, -2.23893805])"
            ]
          },
          "metadata": {},
          "execution_count": 47
        }
      ]
    },
    {
      "cell_type": "code",
      "metadata": {
        "colab": {
          "base_uri": "https://localhost:8080/"
        },
        "id": "INzM6Az0-shV",
        "outputId": "6b09131d-5be7-42a8-8ccf-22e329d03ed4"
      },
      "source": [
        "# Dùng x tìm b để check kết quả\n",
        "A@x"
      ],
      "execution_count": null,
      "outputs": [
        {
          "output_type": "execute_result",
          "data": {
            "text/plain": [
              "array([10.,  5.,  7.,  4.])"
            ]
          },
          "metadata": {},
          "execution_count": 48
        }
      ]
    },
    {
      "cell_type": "code",
      "metadata": {
        "id": "IXQ_dW-d_M7K",
        "colab": {
          "base_uri": "https://localhost:8080/"
        },
        "outputId": "f0306ea1-0a40-4d86-c652-f240209ea6b4"
      },
      "source": [
        "# Kiểm tra kết quả bằng method của numpy\n",
        "np.linalg.lstsq(A,b.reshape((-1,1)))"
      ],
      "execution_count": null,
      "outputs": [
        {
          "output_type": "stream",
          "name": "stderr",
          "text": [
            "<ipython-input-49-e33ea4b4f703>:2: FutureWarning: `rcond` parameter will change to the default of machine precision times ``max(M, N)`` where M and N are the input matrix dimensions.\n",
            "To use the future default and silence this warning we advise to pass `rcond=None`, to keep using the old, explicitly pass `rcond=-1`.\n",
            "  np.linalg.lstsq(A,b.reshape((-1,1)))\n"
          ]
        },
        {
          "output_type": "execute_result",
          "data": {
            "text/plain": [
              "(array([[ 1.24778761],\n",
              "        [ 1.01769912],\n",
              "        [-0.88495575],\n",
              "        [-2.23893805]]),\n",
              " array([], dtype=float64),\n",
              " 4,\n",
              " array([9.23609236, 6.5094485 , 3.4021982 , 1.65732478]))"
            ]
          },
          "metadata": {},
          "execution_count": 49
        }
      ]
    },
    {
      "cell_type": "code",
      "source": [],
      "metadata": {
        "id": "M2vJnhF7BaCn"
      },
      "execution_count": null,
      "outputs": []
    },
    {
      "cell_type": "markdown",
      "metadata": {
        "id": "TMu2lbyqhBMD"
      },
      "source": [
        "Tìm Singular Value Decomposition của $\\mathbf{A}$, ($\\mathbf{U},\\mathbf{\\Sigma}, \\mathbf{V^T}$) \n",
        "$$\\mathbf{A} = \n",
        "\\begin{bmatrix}\n",
        "4 & 11 & 14\\\\\n",
        "8 & 7 & -2\n",
        "\\end{bmatrix}\n",
        "$$\n",
        "\n",
        "Các bạn có thể trình bày trên words, latex files, hoặc viết ra giấy và chụp hình.\n",
        "\n",
        "**Gợi ý**: **Đây chỉ là 1 trong các cách giả bài toán, các bạn có thể làm các cách khác không giống cách này vẫn được**\n",
        "- **Step1:** Có ma trận $\\mathbf{A}_{m*n}$ so sánh m và n\n",
        "    - Nếu **m > n**: có nghĩa dim của $\\mathbf{U}$ sẽ lớn hơn $\\mathbf{V}$. Cần tìm ma trận $\\mathbf{U}$ trước bằng cách tìm eigenvectors của $\\mathbf{AA^T}$. Sau đó tìm ma trận $\\mathbf{V}$ bằng công thức cho từng vector trong $\\mathbf{V}$: $\\mathbf{v_i}=\\dfrac{1}{\\sigma_i}\\mathbf{A^T}\\mathbf{u_i}$\n",
        "    - Nếu **m < n**: có nghĩa dim của $\\mathbf{U}$ sẽ bé hơn $\\mathbf{V}$. Cần tìm ma trận $\\mathbf{V}$ trước bằng cách tìm eigenvectors của $\\mathbf{A^TA}$. Sau đó tìm ma trận $\\mathbf{U}$ bằng công thức cho từng vector trong $\\mathbf{U}$: $\\mathbf{u_i}=\\dfrac{1}{\\sigma_i}\\mathbf{A}\\mathbf{v_i}$\n",
        "\n",
        "- **Step2:** Vì m < n (m=2, n=3) nên cần tìm right singular vectors (columns của $\\mathbf{V}$) $\\mathbf{A^TA}$. Sau đó cố định $\\mathbf{V}$ đã tìm được, và dùng nó để tìm $\\mathbf{U}$ theo công thức $\\mathbf{u_i}=\\dfrac{1}{\\sigma_i}\\mathbf{A}\\mathbf{v_i}$ ở bước cuối cùng\n",
        "    - Tìm ma trận $\\mathbf{A^TA}$\n",
        "    - Tìm eigenvalue của $\\mathbf{A^TA}$ => Tìm singular values là căn bậc 2 của eigenvalues\n",
        "    - Tìm eigenvectorector của $\\mathbf{A^TA}$\n",
        "- **Step3:** Tìm  $\\mathbf{\\Sigma}, \\mathbf{V}$\n",
        "    - Sắp xếp các singular values theo thứ tự từ lớn đến bé. Hình thành ma trận đường chéo vuông có kích thuớc là số lượng singular values, (đường chéo là các singular values vị trí 00, 11, 22, ... các vị trí còn lại = 0). Sau đó padding = 0 để ma trận này có kích thước = ma trận $\\mathbf{A}$. Thu được $\\mathbf{\\Sigma}$\n",
        "    - Đặt các eigenvectors theo thứ tự có eigenvalue tương ứng từ lớn đến bé (trái qua phải), thu được $\\mathbf{V}$\n",
        "- **Step4:** Tìm $\\mathbf{U}$\n",
        "    - Nếu làm tương tự Bước1, Bước2 (bỏ bước Tìm  $\\mathbf{\\Sigma}$) với $\\mathbf{AA^T}$ để thụ được $\\mathbf{U}$ tương tự như $\\mathbf{V}$ thì sẽ thu được ma trận $\\mathbf{U}$ nhưng không đảm bảo rằng ma trận $\\mathbf{U}$ này là ma trận tương ứng với $\\mathbf{V}$. Bởi vì singular value là căn bậc hai của eignevalue do đó sẽ có nghiệm âm hoặc dương, điều này có nghĩa cứ 1 singular value sẽ có thể có 2 normalized singular vector cùng giá trị nhưng khác dấu. Do đó nếu một ma trận $\\mathbf{V}$ hoặc $\\mathbf{U}$ có $p$ vector thì sẽ có $p^2$ ma trận tương ứng. **Do đó cần phải thực hiện theo cách thức được nêu ra ở bước 1 để có thể reconstruct được A. Vì có sự tham gia trực tiếp 3 thành phần $v_i$ hoặc $u_i$, A và singular value để tìm thành phần còn lại của $u_i$ hoặc $v_i$, sẽ không bị trường hợp tìm được ma trận U và V không tương thích với nhau**\n",
        "    - Tìm $\\mathbf{U}$ bằng công thức $\\mathbf{u_i}=\\dfrac{1}{\\sigma_i}\\mathbf{A}v_i$\n"
      ]
    },
    {
      "cell_type": "markdown",
      "metadata": {
        "id": "k3hy_RD2VvNx"
      },
      "source": [
        "Step1: A là ma trận 2x3 như vậy giải theo cách m<n "
      ]
    },
    {
      "cell_type": "markdown",
      "metadata": {
        "id": "WeKVheD9h-9s"
      },
      "source": [
        "Step2:Tính\n",
        "\n",
        "- $\\mathbf{A^TA} = \n",
        "\\begin{bmatrix}\n",
        "4  & 8 \\\\\n",
        "11 & 7 \\\\\n",
        "14 & -2\n",
        "\\end{bmatrix}\n",
        "\\begin{bmatrix}\n",
        "4 & 11 & 14\\\\\n",
        "8 & 7 & -2\n",
        "\\end{bmatrix}\n",
        "= \n",
        "\\begin{bmatrix}\n",
        "80  & 100 & 40 \\\\\n",
        "100 & 170 & 140 \\\\\n",
        "40 & 140 & 200\n",
        "\\end{bmatrix}\n",
        "$\n",
        "\n",
        "- $\\mathbf{A^TAx} = \\lambda \\mathbf{x}$ \n",
        "\n",
        "$\\Longrightarrow det(\\mathbf{A^TAx} - \\lambda \\mathbf{I}) = 0$ \n",
        "\n",
        "$\\Longrightarrow -\\lambda^3+450\\lambda^2-32400\\lambda$\n",
        "\n",
        "$\\Longrightarrow \\lambda_1 = 360, \\lambda_2 = 90, \\lambda_3 = 0$\n",
        "\n",
        "$\\Longrightarrow \\sigma_1 = 6\\sqrt{10}, \\sigma_2 = 3\\sqrt{10}$\n",
        "\n",
        "-  $\\mathbf{A^TAx} = \\lambda \\mathbf{x}$ \n",
        "\n",
        "$\\Longrightarrow \\mathbf{x_1}= [\\dfrac{1}{3}, \\dfrac{2}{3}, \\dfrac{2}{3}], \\mathbf{x_2}= [\\dfrac{-2}{3}, \\dfrac{-1}{3}, \\dfrac{2}{3}], \\mathbf{x_3}= [\\dfrac{2}{3}, \\dfrac{-2}{3}, \\dfrac{1}{3}]$\n",
        "\n"
      ]
    },
    {
      "cell_type": "markdown",
      "metadata": {
        "id": "GubNl1NVh-9p"
      },
      "source": [
        "Step3: Tính\n",
        "- $\n",
        "\\begin{bmatrix}\n",
        "\\sigma_1  & 0 \\\\\n",
        "0 & \\sigma_2\n",
        "\\end{bmatrix}\n",
        "= \n",
        "\\begin{bmatrix}\n",
        "6\\sqrt{10}  & 0 \\\\\n",
        "0 & 3\\sqrt{10}\n",
        "\\end{bmatrix}\n",
        "\\Longrightarrow \\mathbf{\\Sigma} =  \n",
        "\\begin{bmatrix}\n",
        "6\\sqrt{10}  & 0 & 0 \\\\\n",
        "0 & 3\\sqrt{10} & 0\n",
        "\\end{bmatrix}\n",
        "$\n",
        "\n",
        " \n",
        "- $\\mathbf{V} = [\\mathbf{x_1} \\: \\mathbf{x_2} \\: \\mathbf{x_3}]=\n",
        "\\begin{bmatrix}\n",
        "\\dfrac{1}{3} & \\dfrac{-2}{3} & \\dfrac{2}{3} \\\\\n",
        "\\dfrac{2}{3} & \\dfrac{-1}{3} & \\dfrac{-2}{3} \\\\\n",
        "\\dfrac{2}{3} & \\dfrac{2}{3} & \\dfrac{1}{3}\n",
        "\\end{bmatrix}\n",
        "$\n",
        "\n"
      ]
    },
    {
      "cell_type": "markdown",
      "metadata": {
        "id": "acNvqKexh-9n"
      },
      "source": [
        "Step4: Tính\n",
        "\n",
        "- $\\mathbf{A} = \\mathbf{U}\\mathbf{\\Sigma}\\mathbf{V^T} \\Longleftrightarrow \\mathbf{A}\\mathbf{V}\\mathbf{\\Sigma^{-1}}=\\mathbf{U}$\n",
        "- $\\mathbf{u_1} = \\dfrac{\\mathbf{Av_1}}{\\sigma_1} = \\dfrac{1}{6\\sqrt{10}}\n",
        "\\begin{bmatrix}\n",
        "4 & 11 & 14\\\\\n",
        "8 & 7 & -2\n",
        "\\end{bmatrix}\n",
        "\\begin{bmatrix}\n",
        "\\dfrac{1}{3} \\\\\n",
        "\\dfrac{2}{3} \\\\\n",
        "\\dfrac{2}{3} \n",
        "\\end{bmatrix}\n",
        "=\n",
        "\\begin{bmatrix}\n",
        "\\dfrac{3}{\\sqrt{10}} \\\\\n",
        "\\dfrac{1}{\\sqrt{10}}\n",
        "\\end{bmatrix}$\n",
        "\n",
        "- $\\mathbf{u_2} = \\dfrac{\\mathbf{Av_2}}{\\sigma_2} = \\dfrac{1}{3\\sqrt{10}}\n",
        "\\begin{bmatrix}\n",
        "4 & 11 & 14\\\\\n",
        "8 & 7 & -2\n",
        "\\end{bmatrix}\n",
        "\\begin{bmatrix}\n",
        "\\dfrac{-2}{3} \\\\\n",
        "\\dfrac{-1}{3} \\\\\n",
        "\\dfrac{2}{3} \n",
        "\\end{bmatrix}\n",
        "=\n",
        "\\begin{bmatrix}\n",
        "\\dfrac{1}{\\sqrt{10}} \\\\\n",
        "\\dfrac{-3}{\\sqrt{10}}\n",
        "\\end{bmatrix}\n",
        "$\n",
        "- $\\mathbf{U} = [\\mathbf{u_1} \\: \\mathbf{u_2}]=\n",
        "\\begin{bmatrix}\n",
        "\\dfrac{3}{\\sqrt{10}}  & \\dfrac{1}{\\sqrt{10}} \\\\\n",
        "\\dfrac{1}{\\sqrt{10}} & \\dfrac{-3}{\\sqrt{10}}\n",
        "\\end{bmatrix}\n",
        "$"
      ]
    },
    {
      "cell_type": "markdown",
      "metadata": {
        "id": "FuEShlCQj0lJ"
      },
      "source": [
        "- $\\mathbf{U}=\n",
        "\\begin{bmatrix}\n",
        "\\dfrac{3}{\\sqrt{10}}  & \\dfrac{1}{\\sqrt{10}} \\\\\n",
        "\\dfrac{1}{\\sqrt{10}} & \\dfrac{-3}{\\sqrt{10}}\n",
        "\\end{bmatrix}\n",
        "$\n",
        "$\\mathbf{\\Sigma} =  \n",
        "\\begin{bmatrix}\n",
        "6\\sqrt{10}  & 0 & 0 \\\\\n",
        "0 & 3\\sqrt{10} & 0\n",
        "\\end{bmatrix}$\n",
        "\n",
        "- $\\mathbf{V^T} =\n",
        "\\begin{bmatrix}\n",
        "\\dfrac{1}{3} & \\dfrac{2}{3} & \\dfrac{2}{3} \\\\\n",
        "\\dfrac{-2}{3} & \\dfrac{-1}{3} & \\dfrac{2}{3} \\\\\n",
        "\\dfrac{2}{3} & \\dfrac{-2}{3} & \\dfrac{1}{3}\n",
        "\\end{bmatrix}\n",
        "$"
      ]
    },
    {
      "cell_type": "code",
      "metadata": {
        "id": "U-UFt_ryk-dd",
        "colab": {
          "base_uri": "https://localhost:8080/"
        },
        "outputId": "4a7f4158-c62e-4a8c-946e-6f157d1e5344"
      },
      "source": [
        "import numpy as np\n",
        "\n",
        "sig = np.array([[6*np.sqrt(10), 0, 0],\n",
        "                [0, 3*np.sqrt(10), 0]])\n",
        "\n",
        "U = np.array([[3/np.sqrt(10), 1/np.sqrt(10)],\n",
        "              [1/np.sqrt(10), -3/np.sqrt(10)]])\n",
        "\n",
        "V = np.array([[1/3, -2/3, 2/3],\n",
        "              [2/3, -1/3, -2/3],\n",
        "              [2/3, 2/3, -1/3]])\n",
        "\n",
        "Vt = np.array([[1/3, 2/3, 2/3],\n",
        "              [-2/3, -1/3, 2/3],\n",
        "              [2/3, -2/3, 1/3]])\n",
        "U @ sig @ Vt"
      ],
      "execution_count": null,
      "outputs": [
        {
          "output_type": "execute_result",
          "data": {
            "text/plain": [
              "array([[ 4., 11., 14.],\n",
              "       [ 8.,  7., -2.]])"
            ]
          },
          "metadata": {},
          "execution_count": 50
        }
      ]
    },
    {
      "cell_type": "code",
      "metadata": {
        "colab": {
          "base_uri": "https://localhost:8080/"
        },
        "id": "p3sbFkJKt1Em",
        "outputId": "8878cbfa-6f91-42e8-d5cd-343fffe5b223"
      },
      "source": [
        "cc = np.array([[80, 100, 40],\n",
        "                        [100, 170, 140],\n",
        "                        [40, 140, 200]])\n",
        "np.linalg.eig(cc)"
      ],
      "execution_count": null,
      "outputs": [
        {
          "output_type": "execute_result",
          "data": {
            "text/plain": [
              "(array([ 3.60000000e+02, -3.18981901e-14,  9.00000000e+01]),\n",
              " array([[-0.33333333, -0.66666667, -0.66666667],\n",
              "        [-0.66666667,  0.66666667, -0.33333333],\n",
              "        [-0.66666667, -0.33333333,  0.66666667]]))"
            ]
          },
          "metadata": {},
          "execution_count": 51
        }
      ]
    },
    {
      "cell_type": "code",
      "metadata": {
        "colab": {
          "base_uri": "https://localhost:8080/"
        },
        "id": "BhC3huj7vwEq",
        "outputId": "b8fc1222-ab95-451d-bc14-521267eb991d"
      },
      "source": [
        "cc = np.array([[333, 81],\n",
        "               [81, 117]])\n",
        "np.linalg.eig(cc)"
      ],
      "execution_count": null,
      "outputs": [
        {
          "output_type": "execute_result",
          "data": {
            "text/plain": [
              "(array([360.,  90.]), array([[ 0.9486833 , -0.31622777],\n",
              "        [ 0.31622777,  0.9486833 ]]))"
            ]
          },
          "metadata": {},
          "execution_count": 52
        }
      ]
    },
    {
      "cell_type": "code",
      "metadata": {
        "colab": {
          "base_uri": "https://localhost:8080/"
        },
        "id": "v-FhwxOjgp0K",
        "outputId": "6298bf10-f9a2-4838-f66b-f1f6f59a98d5"
      },
      "source": [
        "A = np.array([[4, 11, 14],\n",
        "            [8, 7, -2]])\n",
        "np.linalg.svd(A)"
      ],
      "execution_count": null,
      "outputs": [
        {
          "output_type": "execute_result",
          "data": {
            "text/plain": [
              "(array([[-0.9486833 , -0.31622777],\n",
              "        [-0.31622777,  0.9486833 ]]),\n",
              " array([18.97366596,  9.48683298]),\n",
              " array([[-0.33333333, -0.66666667, -0.66666667],\n",
              "        [ 0.66666667,  0.33333333, -0.66666667],\n",
              "        [-0.66666667,  0.66666667, -0.33333333]]))"
            ]
          },
          "metadata": {},
          "execution_count": 53
        }
      ]
    },
    {
      "cell_type": "code",
      "metadata": {
        "colab": {
          "base_uri": "https://localhost:8080/"
        },
        "id": "jhZmESMh3BMR",
        "outputId": "b9706e24-0b68-4779-c7b0-675eb0bc36a1"
      },
      "source": [
        "np.linalg.svd(np.array([[1, 2],\n",
        "                      [3, 4]]))"
      ],
      "execution_count": null,
      "outputs": [
        {
          "output_type": "execute_result",
          "data": {
            "text/plain": [
              "(array([[-0.40455358, -0.9145143 ],\n",
              "        [-0.9145143 ,  0.40455358]]),\n",
              " array([5.4649857 , 0.36596619]),\n",
              " array([[-0.57604844, -0.81741556],\n",
              "        [ 0.81741556, -0.57604844]]))"
            ]
          },
          "metadata": {},
          "execution_count": 54
        }
      ]
    },
    {
      "cell_type": "code",
      "source": [],
      "metadata": {
        "id": "3-P9lxAowgVQ"
      },
      "execution_count": null,
      "outputs": []
    }
  ]
}