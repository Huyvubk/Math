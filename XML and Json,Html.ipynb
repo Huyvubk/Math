{
 "cells": [
  {
   "cell_type": "code",
   "execution_count": null,
   "id": "a03b8294",
   "metadata": {},
   "outputs": [],
   "source": [
    "import xml.tree.ElementTree as ET\n",
    "#đọc file xml\n",
    "mytree = ET.parse('test.xml')\n",
    "#\n",
    "myroot = mytree.getroot()\n",
    "print(myroot)\n",
    "print(type(myroot))\n"
   ]
  },
  {
   "cell_type": "code",
   "execution_count": null,
   "id": "a15439d4",
   "metadata": {},
   "outputs": [],
   "source": [
    "#dung chi so\n",
    "to_text = myroot[0].text\n",
    "from_text = myroot[1].text\n",
    "heading_text = myroot[2].text\n",
    "body_text = myroot[3].text\n",
    "print(to_text)\n",
    "#ham file\n",
    "to_text = myroot.find('to')\n",
    "#tim thuoc tinh\n",
    "print(myroot[0].attrib['id'])\n"
   ]
  },
  {
   "cell_type": "code",
   "execution_count": null,
   "id": "804f308c",
   "metadata": {},
   "outputs": [],
   "source": [
    "#Json in python\n",
    "import json\n",
    "with open('path_json.json') as f:\n",
    "    data = json.load(f)\n",
    "print(data) #type dictionary\n",
    "print(data['name'])\n"
   ]
  },
  {
   "cell_type": "code",
   "execution_count": 1,
   "id": "734a978c",
   "metadata": {},
   "outputs": [
    {
     "name": "stdout",
     "output_type": "stream",
     "text": [
      "C:\\Users\\huy\n"
     ]
    }
   ],
   "source": [
    "import os\n",
    "#trả về thư mục hiện hành \n",
    "print(os.getcwd())"
   ]
  },
  {
   "cell_type": "code",
   "execution_count": null,
   "id": "86db564e",
   "metadata": {},
   "outputs": [],
   "source": [
    "import os\n",
    "path = os.getcwd()\n",
    "for i in range(6):\n",
    "    file_path = path + f'\\image\\img{i}.png'\n",
    "    print(file_path)\n",
    "    "
   ]
  },
  {
   "cell_type": "code",
   "execution_count": null,
   "id": "a994cf2b",
   "metadata": {},
   "outputs": [],
   "source": []
  }
 ],
 "metadata": {
  "kernelspec": {
   "display_name": "Python 3",
   "language": "python",
   "name": "python3"
  },
  "language_info": {
   "codemirror_mode": {
    "name": "ipython",
    "version": 3
   },
   "file_extension": ".py",
   "mimetype": "text/x-python",
   "name": "python",
   "nbconvert_exporter": "python",
   "pygments_lexer": "ipython3",
   "version": "3.7.11"
  }
 },
 "nbformat": 4,
 "nbformat_minor": 5
}
